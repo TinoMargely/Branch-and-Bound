{
 "cells": [
  {
   "cell_type": "markdown",
   "metadata": {},
   "source": [
    "# Projet de base"
   ]
  },
  {
   "cell_type": "code",
   "execution_count": 1,
   "metadata": {},
   "outputs": [],
   "source": [
    "import numpy as np\n",
    "import math\n",
    "import networkx as nx\n",
    "from networkx.drawing.nx_pydot import graphviz_layout\n",
    "from matplotlib import pyplot as plt\n",
    "import copy\n",
    "import time"
   ]
  },
  {
   "cell_type": "code",
   "execution_count": 2,
   "metadata": {},
   "outputs": [],
   "source": [
    "class Node:\n",
    "    \n",
    "    def __init__(self,idx, parent, children, lb, visited):\n",
    "        self.idx = idx\n",
    "        self.parent = parent\n",
    "        self.children = children\n",
    "        self.lb = lb\n",
    "        self.visited = visited\n",
    "        \n",
    "    def __str__(self):\n",
    "        return (\"Parent : \" +str(self.parent)+\n",
    "                \"\\n Children : \"+str(self.children) + \n",
    "                \"\\n lb : \"+str(self.lb)+ \n",
    "                \"\\n visited : \"+str(self.visited))"
   ]
  },
  {
   "cell_type": "code",
   "execution_count": 3,
   "metadata": {},
   "outputs": [],
   "source": [
    "def arborescence(node,Tree):\n",
    "    branch = []\n",
    "    while node.parent != None:\n",
    "        branch.append(node)\n",
    "        node = Tree[node.parent]\n",
    "    branch.append(node)\n",
    "    \n",
    "    return branch"
   ]
  },
  {
   "cell_type": "code",
   "execution_count": 4,
   "metadata": {},
   "outputs": [],
   "source": [
    "def computeCost(p,d,w,order):\n",
    "    t=0\n",
    "    cost=0\n",
    "    for idx in order:\n",
    "        t += p[idx]\n",
    "        cost += max(0,(t-d[idx])*w[idx])\n",
    "    return cost"
   ]
  },
  {
   "cell_type": "code",
   "execution_count": 5,
   "metadata": {},
   "outputs": [],
   "source": [
    "p = [12,8,15,9]\n",
    "d = [16,26,25,27]\n",
    "w = [4,5,3,5]"
   ]
  },
  {
   "cell_type": "code",
   "execution_count": 6,
   "metadata": {},
   "outputs": [],
   "source": [
    "def getPrimal_0(p,d,w):\n",
    "    sortedTasks = np.argsort(d)\n",
    "    cost = computeCost(p,d,w,sortedTasks)\n",
    "    return(cost,sortedTasks)\n",
    "\n",
    "\n",
    "def getPrimal_1(p,d,w):\n",
    "    sortedTasks = (np.argsort((np.array(d)-np.array(p))*np.array(w)))[::-1]\n",
    "    cost = computeCost(p,d,w,sortedTasks)\n",
    "    return(cost,sortedTasks)\n",
    "\n",
    "\n",
    "def getPrimal_2(p,d,w):\n",
    "    tasksLeft = [int(i) for i in range(len(p))]\n",
    "    order = []\n",
    "    while len(tasksLeft)!= 0:\n",
    "        time = np.sum(np.array(p)[tasksLeft])\n",
    "        penalities = (time-np.array(d)[tasksLeft])*np.array(w)[tasksLeft]\n",
    "        sortedTasks = np.argsort(penalities)\n",
    "        order.append(tasksLeft[sortedTasks[0]])\n",
    "        tasksLeft.pop(sortedTasks[0])\n",
    "    order.reverse()\n",
    "    cost = computeCost(p,d,w,order)\n",
    "    return(cost,order)"
   ]
  },
  {
   "cell_type": "code",
   "execution_count": 7,
   "metadata": {},
   "outputs": [],
   "source": [
    "def getDual_0(p,d,w,visited):\n",
    "    dual=0\n",
    "    time=0\n",
    "    notVisited=list(range(len(p)))\n",
    "    for i in visited:\n",
    "        retard=((p[i]+time)-d[i])\n",
    "        dual+=retard*w[i]*(retard>0)\n",
    "        time+=p[i]\n",
    "        notVisited.remove(i)\n",
    "        \n",
    "    for j in notVisited:\n",
    "        retard=(p[j]+time)-d[j]\n",
    "        dual+=retard*w[j]*(retard>0)\n",
    "    return dual\n",
    "\n",
    "def getDual_1(p,d,w,visited):\n",
    "    dual = 0\n",
    "    time = 0\n",
    "    notVisited = list(range(len(p)))\n",
    "    for i in visited:\n",
    "        retard = ((p[i]+time)-d[i])\n",
    "        dual += retard*w[i]*(retard>0)\n",
    "        time += p[i]\n",
    "        notVisited.remove(i)\n",
    "    return dual\n",
    "\n",
    "def getDual_2(p,d,w,visited):\n",
    "    dual = 0\n",
    "    time = np.sum(p)\n",
    "    for i in visited:\n",
    "        retard = (time-d[i])\n",
    "        dual += retard*w[i]*(retard>0)\n",
    "        time -= p[i] \n",
    "    return dual\n",
    "\n",
    "def getDual_3(p,d,w,visited):\n",
    "    dual = 0\n",
    "    time = np.sum(p)\n",
    "    notVisited=list(range(len(p)))\n",
    "    for i in visited:\n",
    "        retard = (time-d[i])\n",
    "        dual += retard*w[i]*(retard>0)\n",
    "        time -= p[i] \n",
    "        notVisited.remove(i)\n",
    "    for j in notVisited:\n",
    "        if time - p[j] < d[j]:\n",
    "            retard = time-d[j]\n",
    "            dual+=retard*w[j]*(retard>0)\n",
    "    return dual"
   ]
  },
  {
   "cell_type": "code",
   "execution_count": 8,
   "metadata": {},
   "outputs": [],
   "source": [
    "def exploration_0(Queue,Tree,UB):\n",
    "    return(Queue[0])\n",
    "\n",
    "def exploration_1(Queue,Tree,UB):\n",
    "    return(Queue[-1])\n",
    "\n",
    "def exploration_2(Queue,Tree,UB):\n",
    "    bestNode = Queue[-1]\n",
    "    bestLB = -math.inf\n",
    "    for idx in Queue:\n",
    "        if Tree[idx].lb > bestLB and Tree[idx].lb < UB:\n",
    "            bestLB = Tree[idx].lb\n",
    "            bestNode = idx\n",
    "    return(bestNode)"
   ]
  },
  {
   "cell_type": "code",
   "execution_count": 9,
   "metadata": {},
   "outputs": [],
   "source": [
    "def branch_and_bound(p,d,w,byLast,getPrimal,getDual,exploration):\n",
    "    \n",
    "    Tasks = list(range(len(p)))\n",
    "    Tree = [] # list of all nodes created (a list of Node objects)\n",
    "    Queue = [] # list of nodes to process (a list of integers with the index of nodes to process in the Tree)\n",
    "    UB = 10000000 # Upper Bound of the problem\n",
    "    LB = 0 # best Lower Bound of the problem \n",
    "    \n",
    "    UB,currentOrder = getPrimal(p,d,w) #We start by computing the first primal/upper bound.\n",
    "\n",
    "    bestNode = Node(-1,-1, [], 0 ,[]) #default best node\n",
    "    \n",
    "    root = Node(0,None, [], 0, []) # define the root node of the tree\n",
    "    Tree.append(root) # start the tree with the root node\n",
    "    Queue.append(0) # start the list of nodes to process with the root node\n",
    "    \n",
    "    #continue processing nodes until the queue is empty\n",
    "    \n",
    "    nbIterations = 0\n",
    "    \n",
    "    while len(Queue)!=0 :\n",
    "        \n",
    "        # process the nodes in the queue according to the chosen exploration method\n",
    "        \n",
    "        currentIndex = exploration(Queue,Tree,UB)\n",
    "        currentNode = Tree[currentIndex]\n",
    "        nbIterations += 1\n",
    "        \n",
    "        if currentNode.lb < UB:\n",
    "            \n",
    "            # If the processed node corresponds to a \"full-schedule\" we check whether this solution is an improvement or not\n",
    "            # If so, we update the problem Upper Bound / best order / best node\n",
    "            \n",
    "            if len(currentNode.visited) == len(p):\n",
    "                order = copy.copy(currentNode.visited)\n",
    "                if byLast:\n",
    "                    order.reverse()\n",
    "                solutionCost = computeCost(p,d,w,order)\n",
    "                if solutionCost <= UB:\n",
    "                    UB = solutionCost\n",
    "                    currentOrder = order\n",
    "                    bestNode = currentNode\n",
    "            else:\n",
    "                \n",
    "                #for each task not processed yet we create a new node\n",
    "                for nextTask in (set(Tasks)-set(currentNode.visited)):\n",
    "                    nextVisited = copy.copy(currentNode.visited)\n",
    "                    nextVisited.append(nextTask)\n",
    "                    nextLb = getDual(p,d,w, nextVisited)\n",
    "\n",
    "                    newNode = Node(len(Tree),currentIndex, [], nextLb,nextVisited)\n",
    "                    Tree.append(newNode)\n",
    "                    Queue.append(len(Tree)-1)\n",
    "                    currentNode.children.append(len(Tree)-1)\n",
    "            \n",
    "        # When the processing of the node is completed remove the node from the queue     \n",
    "        Queue.remove(currentIndex)\n",
    "\n",
    "    # return the  solution\n",
    "    \n",
    "    if (UB-bestNode.lb)<=0.0001:\n",
    "        branch = arborescence(bestNode,Tree)\n",
    "    \n",
    "    # If the best node is not a leaf, the bestNode variable is still the default one default\n",
    "    else:\n",
    "        bestLB = -math.inf\n",
    "        for node in Tree:\n",
    "            if node.lb > bestLB and node.lb <=UB:\n",
    "                bestLB = node.lb\n",
    "                bestNode=node\n",
    "        branch = arborescence(bestNode,Tree)\n",
    "\n",
    "    return UB, currentOrder, nbIterations, branch, Tree"
   ]
  },
  {
   "cell_type": "markdown",
   "metadata": {},
   "source": [
    "# Extension"
   ]
  },
  {
   "cell_type": "markdown",
   "metadata": {},
   "source": [
    "__>__ Nous allons maintenant considérer une extension de notre problème dans lequel l'atelier dispose de plusieurs machines : \n",
    "Nous ne changeons pas la structure du code, nous nous appuierons toujours sur la classe Node, les fonctions _getPrimal_, _getDual_, _exploration_ et sur la fonction _Branch and Bound_.\n",
    "\n",
    "\n",
    "Le changement majeur est le changement de format de l'attribut _visited_ de chacun de nos noeuds. En effet, auparavant, cet attribut était une liste stockant les tâches déja réalisées (visted = [0,4,7] <=> les tâches 0,4,7 sont éffectuées, que ce soit en partant de la fin ou du début. \n",
    "Donéranavant, l'attribut _visited_ sera une liste de listes, où la liste à l'index 0 correspondra aux tâches réalisées dans l'odre par la machine 0, etc... \n",
    "\n",
    "\n",
    "visited : [0,2,3] -> [[0,2],[3]]"
   ]
  },
  {
   "cell_type": "code",
   "execution_count": 10,
   "metadata": {},
   "outputs": [],
   "source": [
    "class Node:\n",
    "    \n",
    "    def __init__(self,idx, parent, children, lb, visited):\n",
    "        self.idx = idx\n",
    "        self.parent = parent\n",
    "        self.children = children\n",
    "        self.lb = lb\n",
    "        self.visited = visited\n",
    "        \n",
    "    def __str__(self):\n",
    "        return (\"Parent : \" +str(self.parent)+\n",
    "                \"\\n Children : \"+str(self.children) + \n",
    "                \"\\n lb : \"+str(self.lb)+ \n",
    "                \"\\n visited : \"+str(self.visited))"
   ]
  },
  {
   "cell_type": "markdown",
   "metadata": {},
   "source": [
    "__>__ Une des premières fonctions à redéfinir pour ce nouveau problème était la fonction _computeCost_ qui nous permettra de calculer le coût d'une solution proposée. Le fonctionnement est le même qu'aparavant, on prend juste soin d'itérer sur chaque machine en pensant à réinitialiser le temps à 0."
   ]
  },
  {
   "cell_type": "code",
   "execution_count": 11,
   "metadata": {},
   "outputs": [],
   "source": [
    "def computeCost(p,d,w,orders,n):\n",
    "    cost=0\n",
    "    for order in orders:\n",
    "        t=0\n",
    "        for idx in order:\n",
    "            t += p[idx]\n",
    "            cost += max(0,(t-d[idx])*w[idx])\n",
    "    return cost"
   ]
  },
  {
   "cell_type": "markdown",
   "metadata": {},
   "source": [
    "def getPrimal_2(p,d,w,n):\n",
    "    tasksLeft = [int(i) for i in range(len(p))]\n",
    "    orders = []\n",
    "    while len(tasksLeft)!= 0:\n",
    "        time = np.sum(np.array(p)[tasksLeft])\n",
    "        penalities = (time-np.array(d)[tasksLeft])*np.array(w)[tasksLeft]\n",
    "        sortedTasks = np.argsort(penalities)\n",
    "        order.append(tasksLeft[sortedTasks[0]])\n",
    "        tasksLeft.pop(sortedTasks[0])\n",
    "    order.reverse()\n",
    "    cost = computeCost(p,d,w,orders,n)\n",
    "    return(cost,order)"
   ]
  },
  {
   "cell_type": "markdown",
   "metadata": {},
   "source": [
    "def getPrimal_2(p,d,w,n):\n",
    "    tasksLeft = [int(i) for i in range(len(p))]\n",
    "    orders = [[] for _ in range(n)]\n",
    "    time = [np.sum(np.array(p)[tasksLeft])]*n\n",
    "    \n",
    "    while len(tasksLeft)!= 0:\n",
    "        bestPenalty = (1e99,0,0)\n",
    "        for k in range(n):\n",
    "            penalties = (time[k]-np.array(d)[tasksLeft])*np.array(w)[tasksLeft]\n",
    "            sortedTasks = np.argsort(penalties)\n",
    "            if sortedTasks[0]<bestPenalty[0]:\n",
    "                bestPenalty = (sortedTasks[0], k, tasksLeft[sortedTasks[0]]) #Penalty / machine / task\n",
    "        \n",
    "        orders[bestPenalty[1]].append(bestPenalty[2]) #orders[machine].append(task)\n",
    "        time[bestPenalty[1]] -= p[bestPenalty[2]]\n",
    "        tasksLeft.pop(sortedTasks[0])\n",
    "    for order in orders:\n",
    "        order.reverse()\n",
    "    order.reverse()\n",
    "    cost = computeCost(p,d,w,orders,n)\n",
    "    return(cost,order)"
   ]
  },
  {
   "cell_type": "markdown",
   "metadata": {},
   "source": [
    "__>__ Suite à ça, nous définissons une nouvelle fonction _getPrimal_. La manière la plus simple de calculer une borne primale que nous ayons trouvé est de ranger les tâches par odre croissant de date limite et de les affecter une par une à chacune des machines. À défaut d'être optimale voir même performante, cette méthode nous a néanmoins permis de vérifier le bon fonctionnement de notre algorithme."
   ]
  },
  {
   "cell_type": "code",
   "execution_count": 12,
   "metadata": {},
   "outputs": [],
   "source": [
    "def getPrimal(p,d,w,n):\n",
    "    sortedTasks = np.argsort(d)\n",
    "    orders = [[] for _ in range(n)]\n",
    "    for i in range(len(sortedTasks)):\n",
    "        orders[i%n].append(sortedTasks[i])\n",
    "    cost = computeCost(p,d,w,orders,n)\n",
    "    return(cost,orders)"
   ]
  },
  {
   "cell_type": "markdown",
   "metadata": {},
   "source": [
    "def getDual(p,d,w,visited,n):\n",
    "    dual = 0\n",
    "    time = [np.sum(p)]*n #-> [90,90,90] pour n = 3 par exemple\n",
    "    for k in range(n):\n",
    "        machine = visited[k]\n",
    "        for i in machine:\n",
    "            retard = (time[k]-d[i])\n",
    "            dual += retard*w[i]*(retard>0)\n",
    "            time[k] -= p[i] \n",
    "    return dual"
   ]
  },
  {
   "cell_type": "markdown",
   "metadata": {},
   "source": [
    "__>__ Nous définissons ensuite notre fonction _getDual_ qui sera exécutée à chaque création d'un nouveau noeud de l'arbre pour en calculer sa borne primale. Si on a fixé l'ordre de $k$ pièces on calcule les pénalités de retard de ces $k$ pièces pour chaque machine et on ajoute les pénalités des autres pièces en supposant qu'elles sont en $(k_i+1)$ème position, et en prenant la pénalité de retard minimum parmis toutes les machines.  "
   ]
  },
  {
   "cell_type": "code",
   "execution_count": 13,
   "metadata": {},
   "outputs": [],
   "source": [
    "def getDual(p,d,w,visited,n):\n",
    "    dual = 0\n",
    "    notVisited=list(range(len(p)))\n",
    "    time = [0]*n \n",
    "    for k in range(n):\n",
    "        machine = visited[k]\n",
    "        for i in machine:\n",
    "            retard = (time[k] + p[i] -d[i])\n",
    "            dual += retard*w[i]*(retard>0)\n",
    "            time[k] += p[i]\n",
    "            notVisited.remove(i)\n",
    "    for j in notVisited:\n",
    "        retard=min([(p[j]+time[k])-d[j] for k in range(n)])\n",
    "        dual+=retard*w[j]*(retard>0)\n",
    "    return dual"
   ]
  },
  {
   "cell_type": "code",
   "execution_count": 14,
   "metadata": {},
   "outputs": [],
   "source": [
    "def getDual_2(p,d,w,visited,n):\n",
    "    dual = 0\n",
    "    notVisited=list(range(len(p)))\n",
    "    time = [0]*n \n",
    "    for k in range(n):\n",
    "        machine = visited[k]\n",
    "        for i in machine:\n",
    "            retard = (time[k] + p[i] -d[i])\n",
    "            dual += retard*w[i]*(retard>0)\n",
    "            time[k] += p[i]\n",
    "            notVisited.remove(i)\n",
    "    return dual"
   ]
  },
  {
   "cell_type": "markdown",
   "metadata": {},
   "source": [
    "On conserve les mêmes méthodes d'exploration que précédemment."
   ]
  },
  {
   "cell_type": "code",
   "execution_count": 15,
   "metadata": {},
   "outputs": [],
   "source": [
    "def exploration_0(Queue,Tree,UB):\n",
    "    return(Queue[0])\n",
    "\n",
    "def exploration_1(Queue,Tree,UB):\n",
    "    return(Queue[-1])"
   ]
  },
  {
   "cell_type": "markdown",
   "metadata": {},
   "source": [
    "Finalement, nous modifions notre algorithme _Branch and Bound_ pour correspondre à ce problème. Les éléments que nous avons changé sont : \n",
    "\n",
    "__Entrée :__ \n",
    "\n",
    "* __n :__ Ajout d'un nouveau paramètre pour indiquer le nombre de machines à disposition.\n",
    "\n",
    "__Exécution :__\n",
    "\n",
    "* __getPrimal :__ Utilisation de notre nouvelle fonction getPrimal pour n machines\n",
    "\n",
    "* __root node :__ Changement de format de root.visited.\n",
    "\n",
    "* __Vérification tâches éffectuées :__ On ne peut plus simplement regarder la longueur/composition de noeud.visited mais on doit additionner la longueur de chaque liste/ itérer sur les listes en plusieurs lignes.\n",
    "\n",
    "* __computeCost :__ Utilisation de notre nouvelle fonction computeCost pour n machines\n",
    "\n",
    "* __getDual :__ Utilisation de notre nouvelle fonction getDual pour n machines\n",
    "\n",
    "* __nextVisited :__ Une utilisation d'un simple copy.copy() n'était plus suffisante pour une liste de listes. L'ajout d'un noeud à nextVisited l'ajoutait aussi à currentNode. Nous avons domc remplacé par un deepcopy()\n",
    "\n",
    "* __Création nouveau noeud :__ On crée un nouveau noeud par tâche non visitée pour chaque machine."
   ]
  },
  {
   "cell_type": "code",
   "execution_count": 16,
   "metadata": {},
   "outputs": [],
   "source": [
    "def branch_and_bound(p,d,w,byLast,getPrimal,getDual,exploration,n):\n",
    "    \n",
    "    Tasks = list(range(len(p)))\n",
    "    Tree = [] \n",
    "    Queue = [] \n",
    "    UB = 10000000 \n",
    "    LB = 0 \n",
    "    \n",
    "    UB,currentOrder = getPrimal(p,d,w,n) #New primal bound computation\n",
    "    #print(\"Primal Bound : {} | Order : {}\".format(UB,currentOrder))\n",
    "    bestNode = Node(-1,-1, [], 0 ,[])\n",
    "    \n",
    "    #NEW\n",
    "    #We changed the root node visited attribute to match the problem\n",
    "    root = Node(0,None, [], 0, [[] for _ in range(n)]) \n",
    "    Tree.append(root) \n",
    "    Queue.append(0) \n",
    "    \n",
    "    nbIterations = 0\n",
    "    \n",
    "    while len(Queue)!=0 :\n",
    "        \n",
    "        currentIndex = exploration(Queue,Tree,UB)\n",
    "        currentNode = Tree[currentIndex]\n",
    "        nbIterations += 1\n",
    "        \n",
    "        if currentNode.lb < UB:\n",
    "            \n",
    "            #NEW\n",
    "            #We needed to change the conition to know whether we visited all the tasks or not\n",
    "            if sum([len(visited) for visited in currentNode.visited]) >= len(p):\n",
    "                orders = copy.copy(currentNode.visited)\n",
    "                if byLast:\n",
    "                    for order in orders:\n",
    "                        order.reverse()\n",
    "                #NEW\n",
    "                #ComputeCost changed\n",
    "                solutionCost = computeCost(p,d,w,orders,n)\n",
    "                if solutionCost <= UB:\n",
    "                    UB = solutionCost\n",
    "                    currentOrder = orders\n",
    "                    bestNode = currentNode\n",
    "            else:\n",
    "                \n",
    "                #NEW\n",
    "                #Listing all the visited tasks is now too difficult to be nicely written in a single line\n",
    "                allVisitedTasks = []\n",
    "                visited_copy = copy.copy(currentNode.visited)\n",
    "                for machine in visited_copy:\n",
    "                    for task in machine:\n",
    "                        allVisitedTasks.append(task)\n",
    "                \n",
    "                #print(currentNode.visited)\n",
    "                \n",
    "                #NEW\n",
    "                #Iterate over all the machines\n",
    "                for k in range(n):\n",
    "                    for nextTask in (set(Tasks)-set(allVisitedTasks)):\n",
    "                        #NEW\n",
    "                        #visited is now a list of lists so we need to deepcopy it\n",
    "                        nextVisited = copy.deepcopy(currentNode.visited)\n",
    "                        #machine by machine\n",
    "                        nextVisited[k].append(nextTask)\n",
    "                        nextLb = getDual(p,d,w, nextVisited,n) #New dual bound computation\n",
    "\n",
    "                        newNode = Node(len(Tree),currentIndex, [], nextLb,nextVisited)\n",
    "                        Tree.append(newNode)\n",
    "                        Queue.append(len(Tree)-1)\n",
    "                        currentNode.children.append(len(Tree)-1)\n",
    "               \n",
    "        Queue.remove(currentIndex)\n",
    "\n",
    "    \n",
    "    if (UB-bestNode.lb)<=0.0001:\n",
    "        branch = arborescence(bestNode,Tree)\n",
    "    \n",
    "    else:\n",
    "        bestLB = -math.inf\n",
    "        for node in Tree:\n",
    "            if node.lb > bestLB and node.lb <=UB:\n",
    "                bestLB = node.lb\n",
    "                bestNode=node\n",
    "        branch = arborescence(bestNode,Tree)\n",
    "\n",
    "    return UB, currentOrder, nbIterations, branch, Tree"
   ]
  },
  {
   "cell_type": "markdown",
   "metadata": {},
   "source": [
    "# Test de nos fonctions : "
   ]
  },
  {
   "cell_type": "markdown",
   "metadata": {},
   "source": [
    "Dans un premier temps nous définissons un exemple assez simple qui nous permettra de vérifier le bon fonctionnement de notre algortihme. Nous choisissons de n'utiliser que deux machines et de ne donner que 6 pièces à produire. Toutes les pièces seront usinables en temps sauf une, la pièce 6, qui engendrera un pénalité. \n",
    "\n",
    "* __Temps de produiction :__ p = [2,3,4,2,3,6]\n",
    "\n",
    "\n",
    "* __Dates limite :__ d = [2,5,9,2,5,7]\n",
    "\n",
    "\n",
    "* __Poids de pénalité :__ w = [1,1,1,1,1,1]\n",
    "\n",
    "\n",
    "Si notre algorithme fonctionne correctement, il devrait renvoyer une solution de 4 illustrée sur le schéma ci-dessous. \n",
    "\n",
    "<img src=\"img/2machinestoyexample.png\"\n",
    "     style=\"\" />"
   ]
  },
  {
   "cell_type": "code",
   "execution_count": 17,
   "metadata": {},
   "outputs": [
    {
     "data": {
      "text/plain": [
       "4"
      ]
     },
     "execution_count": 17,
     "metadata": {},
     "output_type": "execute_result"
    }
   ],
   "source": [
    "p = [2,3,4,2,3,6]\n",
    "d = [2,5,9,2,5,7]\n",
    "w = [1,1,1,1,1,1]\n",
    "\n",
    "orders = [[0,1,2],[3,4,5]]\n",
    "computeCost(p,d,w,orders,2)"
   ]
  },
  {
   "cell_type": "code",
   "execution_count": 18,
   "metadata": {},
   "outputs": [
    {
     "name": "stdout",
     "output_type": "stream",
     "text": [
      "Solution : 4\n",
      "Ordre :  [[0, 1, 5], [3, 4, 2]]\n"
     ]
    }
   ],
   "source": [
    "sol, order, _ ,_ ,_= branch_and_bound(p,d,w,True,getPrimal,getDual,exploration_1,2)\n",
    "print(\"Solution :\", sol)\n",
    "print(\"Ordre : \", order)"
   ]
  },
  {
   "cell_type": "markdown",
   "metadata": {},
   "source": [
    "__Conclusion :__ Notre algorithme nous a renvoyé la bonne réponse sur ce problème particulièrement simple. Nous allons maintenant le tester sur différentes intances aléatoires de notre problème."
   ]
  },
  {
   "cell_type": "markdown",
   "metadata": {},
   "source": [
    "__Instances aléatoires :__ Comme précédemment nous allons définir une fonction pour générer des instances aléatoires de notre problème. Le code est globalement le même mais nous divisons la date limite maximum par le nombre de machines."
   ]
  },
  {
   "cell_type": "code",
   "execution_count": 19,
   "metadata": {},
   "outputs": [],
   "source": [
    "def genMultiInstances(n,alpha,n_machines):\n",
    "    p=np.random.randint(1,15,n)\n",
    "    d=np.random.randint(3,int(alpha*n*15/n_machines),n)\n",
    "    w=np.random.randint(1,5,n)\n",
    "    return(p,d,w)"
   ]
  },
  {
   "cell_type": "code",
   "execution_count": 20,
   "metadata": {},
   "outputs": [
    {
     "name": "stdout",
     "output_type": "stream",
     "text": [
      "______________________\n",
      "p :  [12  6  4  1  1  7]\n",
      "d :  [14 15 17 17  4  3]\n",
      "w :  [3 1 1 1 2 4]\n",
      "Solution : 37 | Ordre : [[5, 0, 2], [4, 1, 3]] | nbit : 23025\n",
      "Solution : 37 | Ordre : [[5, 0, 2], [4, 1, 3]] | nbit : 43365\n",
      "______________________\n",
      "p :  [ 3  9  4  3  6 11]\n",
      "d :  [13  4  9  7  6 15]\n",
      "w :  [1 4 4 1 2 4]\n",
      "Solution : 55 | Ordre : [[1, 3, 0], [4, 2, 5]] | nbit : 9009\n",
      "Solution : 55 | Ordre : [[1, 3, 0], [4, 2, 5]] | nbit : 38841\n",
      "______________________\n",
      "p :  [ 7  5 10  3 12  7]\n",
      "d :  [ 8 12  5 14  4  8]\n",
      "w :  [2 1 2 4 1 3]\n",
      "Solution : 66 | Ordre : [[0, 1, 4], [2, 3, 5]] | nbit : 22795\n",
      "Solution : 66 | Ordre : [[0, 1, 4], [2, 3, 5]] | nbit : 50591\n"
     ]
    }
   ],
   "source": [
    "for _ in range(3):\n",
    "    print(\"______________________\")\n",
    "    p,d,w = genMultiInstances(6,.4,2)\n",
    "    print(\"p : \", p)\n",
    "    print(\"d : \", d)\n",
    "    print(\"w : \", w)\n",
    "    sol, order, nbIt ,_ ,_= branch_and_bound(p,d,w,True,getPrimal,getDual,exploration_1,2)\n",
    "    print(\"Solution : {} | Ordre : {} | nbit : {}\".format(sol,order,nbIt))\n",
    "    sol, order, nbIt ,_ ,_= branch_and_bound(p,d,w,True,getPrimal,getDual_2,exploration_1,2)\n",
    "    print(\"Solution : {} | Ordre : {} | nbit : {}\".format(sol,order,nbIt))"
   ]
  },
  {
   "cell_type": "markdown",
   "metadata": {},
   "source": [
    "__Résultats :__ On remarque que comme on pouvait s'y attendre, la méthode $getDual\\_2$ est moins performante que $getDual$."
   ]
  },
  {
   "cell_type": "code",
   "execution_count": 21,
   "metadata": {},
   "outputs": [
    {
     "data": {
      "text/plain": [
       "Text(0.5, 1.0, \"Temps d'exécution en fonction de la taille du problème - alpha:0.4 | N=1 | n_machines=2/3\")"
      ]
     },
     "execution_count": 21,
     "metadata": {},
     "output_type": "execute_result"
    },
    {
     "data": {
      "image/png": "[encoded data removed]",
      "text/plain": [
       "<Figure size 720x432 with 1 Axes>"
      ]
     },
     "metadata": {
      "needs_background": "light"
     },
     "output_type": "display_data"
    }
   ],
   "source": [
    "N = 1 #Nombre d'échantillons\n",
    "n = 7 #Taille maximum du problème\n",
    "alpha = 0.4\n",
    "\n",
    "resultats_BB = [[] for i in range(3,n)]\n",
    "resultats_BB_2 = [[] for i in range(3,n)]\n",
    "\n",
    "for _ in range(N):\n",
    "    for i in range(3,n):\n",
    "        p,d,w = genMultiInstances(i,alpha,2)\n",
    "        \n",
    "        #n_machines = 2 \n",
    "        start = time.time()\n",
    "        _, _, _, _, _ = branch_and_bound(p,d,w, True, getPrimal, getDual,exploration_1, 2)\n",
    "        end = time.time()\n",
    "        resultats_BB[i-3].append(end-start)\n",
    "        \n",
    "        p,d,w = genMultiInstances(i,alpha,3)\n",
    "        #n_machines = 3\n",
    "        start = time.time()\n",
    "        _, _, _, _, _ = branch_and_bound(p,d,w, True, getPrimal, getDual,exploration_1, 3)\n",
    "        end = time.time()\n",
    "        resultats_BB_2[i-3].append(end-start)\n",
    "\n",
    "resultats_BB_2 = [np.mean(res) for res in resultats_BB_2]\n",
    "resultats_BB_2 = np.array(resultats_BB_2)\n",
    "\n",
    "resultats_BB = [np.mean(res) for res in resultats_BB]\n",
    "resultats_BB = np.array(resultats_BB)\n",
    "\n",
    "plt.figure(figsize=(10,6))\n",
    "X = list(range(3,n))\n",
    "plt.plot(X,resultats_BB, label=\"2 machines\")\n",
    "plt.plot(X,resultats_BB_2, label=\"3 machines\")\n",
    "plt.xlabel(\"Taille du problème\")\n",
    "plt.xticks(X)\n",
    "plt.legend()\n",
    "plt.ylabel(\"Temps d'exécution\")\n",
    "plt.title(\"Temps d'exécution en fonction de la taille du problème - alpha:{} | N={} | n_machines={}\".format(alpha,N,\"2/3\"))"
   ]
  },
  {
   "cell_type": "code",
   "execution_count": 22,
   "metadata": {},
   "outputs": [
    {
     "data": {
      "text/plain": [
       "Text(0.5, 1.0, \"Temps d'exécution en fonction de la taille du problème - alpha:0.4 | N=1 | n_machines=2/3\")"
      ]
     },
     "execution_count": 22,
     "metadata": {},
     "output_type": "execute_result"
    },
    {
     "data": {
      "image/png": "[encoded data removed]",
      "text/plain": [
       "<Figure size 720x432 with 1 Axes>"
      ]
     },
     "metadata": {
      "needs_background": "light"
     },
     "output_type": "display_data"
    }
   ],
   "source": [
    "N = 1 #Nombre d'échantillons\n",
    "n = 8 #Taille maximum du problème\n",
    "alpha = 0.4\n",
    "\n",
    "resultats_BB = [[] for i in range(3,n)]\n",
    "resultats_BB_2 = [[] for i in range(3,n)]\n",
    "\n",
    "for _ in range(N):\n",
    "    for i in range(3,n):\n",
    "        p,d,w = genMultiInstances(i,alpha,2)\n",
    "        \n",
    "        #n_machines = 2 \n",
    "        start = time.time()\n",
    "        _, _, _, _, _ = branch_and_bound(p,d,w, True, getPrimal, getDual,exploration_1, 2)\n",
    "        end = time.time()\n",
    "        resultats_BB[i-3].append(end-start)\n",
    "        \n",
    "        p,d,w = genMultiInstances(i,alpha,3)\n",
    "        #n_machines = 3\n",
    "        start = time.time()\n",
    "        _, _, _, _, _ = branch_and_bound(p,d,w, True, getPrimal, getDual,exploration_1, 3)\n",
    "        end = time.time()\n",
    "        resultats_BB_2[i-3].append(end-start)\n",
    "\n",
    "resultats_BB_2 = [np.mean(res) for res in resultats_BB_2]\n",
    "resultats_BB_2 = np.array(resultats_BB_2)\n",
    "\n",
    "resultats_BB = [np.mean(res) for res in resultats_BB]\n",
    "resultats_BB = np.array(resultats_BB)\n",
    "\n",
    "plt.figure(figsize=(10,6))\n",
    "X = list(range(3,n))\n",
    "plt.plot(X,resultats_BB, label=\"2 machines\")\n",
    "plt.plot(X,resultats_BB_2, label=\"3 machines\")\n",
    "plt.xlabel(\"Taille du problème\")\n",
    "plt.xticks(X)\n",
    "plt.legend()\n",
    "plt.ylabel(\"Temps d'exécution\")\n",
    "plt.title(\"Temps d'exécution en fonction de la taille du problème - alpha:{} | N={} | n_machines={}\".format(alpha,N,\"2/3\"))\n",
    "#plt.savefig(\"img/2-3-machines.png\")"
   ]
  },
  {
   "cell_type": "code",
   "execution_count": 26,
   "metadata": {},
   "outputs": [
    {
     "data": {
      "image/png": "[encoded data removed]",
      "text/plain": [
       "<Figure size 720x432 with 1 Axes>"
      ]
     },
     "metadata": {
      "needs_background": "light"
     },
     "output_type": "display_data"
    }
   ],
   "source": [
    "N = 1 #Nombre d'échantillons\n",
    "n = 8 #Taille maximum du problème\n",
    "alpha = 0.4\n",
    "\n",
    "resultats_BB = [[] for i in range(3,n)]\n",
    "resultats_BB_2 = [[] for i in range(3,n)]\n",
    "resultats_BB_3 = [[] for i in range(3,n)]\n",
    "\n",
    "for _ in range(N):\n",
    "    for i in range(3,n):\n",
    "        \n",
    "        p,d,w = genMultiInstances(i,alpha,1)\n",
    "        #n_machines = 1 \n",
    "        start = time.time()\n",
    "        _, _, _, _, _ = branch_and_bound(p,d,w, True, getPrimal, getDual,exploration_1, 1)\n",
    "        end = time.time()\n",
    "        resultats_BB[i-3].append(end-start)\n",
    "        \n",
    "        p,d,w = genMultiInstances(i,alpha,2)\n",
    "        #n_machines = 2 \n",
    "        start = time.time()\n",
    "        _, _, _, _, _ = branch_and_bound(p,d,w, True, getPrimal, getDual,exploration_1, 2)\n",
    "        end = time.time()\n",
    "        resultats_BB_2[i-3].append(end-start)\n",
    "        \n",
    "        p,d,w = genMultiInstances(i,alpha,3)\n",
    "        #n_machines = 3\n",
    "        start = time.time()\n",
    "        _, _, _, _, _ = branch_and_bound(p,d,w, True, getPrimal, getDual,exploration_1, 3)\n",
    "        end = time.time()\n",
    "        resultats_BB_3[i-3].append(end-start)\n",
    "\n",
    "\n",
    "resultats_BB_3 = [np.mean(res) for res in resultats_BB_3]\n",
    "resultats_BB_3 = np.array(resultats_BB_3)\n",
    "\n",
    "resultats_BB_2 = [np.mean(res) for res in resultats_BB_2]\n",
    "resultats_BB_2 = np.array(resultats_BB_2)\n",
    "\n",
    "resultats_BB = [np.mean(res) for res in resultats_BB]\n",
    "resultats_BB = np.array(resultats_BB)\n",
    "\n",
    "plt.figure(figsize=(10,6))\n",
    "X = list(range(3,n))\n",
    "plt.plot(X,resultats_BB, label=\"1 machines\")\n",
    "plt.plot(X,resultats_BB_2, label=\"2 machines\")\n",
    "plt.plot(X,resultats_BB_3, label=\"3 machines\")\n",
    "plt.xlabel(\"Taille du problème\")\n",
    "plt.xticks(X)\n",
    "plt.legend()\n",
    "plt.ylabel(\"Temps d'exécution\")\n",
    "plt.title(\"Temps d'exécution en fonction de la taille du problème - alpha:{} | N={} | n_machines={}\".format(alpha,N,\"2/3\"))\n",
    "#plt.savefig(\"img/1-2-3-machines-8.png\")"
   ]
  },
  {
   "cell_type": "code",
   "execution_count": null,
   "metadata": {},
   "outputs": [],
   "source": []
  }
 ],
 "metadata": {
  "kernelspec": {
   "display_name": "Python 3",
   "language": "python",
   "name": "python3"
  },
  "language_info": {
   "codemirror_mode": {
    "name": "ipython",
    "version": 3
   },
   "file_extension": ".py",
   "mimetype": "text/x-python",
   "name": "python",
   "nbconvert_exporter": "python",
   "pygments_lexer": "ipython3",
   "version": "3.7.6"
  }
 },
 "nbformat": 4,
 "nbformat_minor": 4
}

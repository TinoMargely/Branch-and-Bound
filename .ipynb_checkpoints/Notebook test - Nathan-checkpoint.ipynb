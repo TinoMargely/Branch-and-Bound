{
 "cells": [
  {
   "cell_type": "code",
   "execution_count": 1,
   "metadata": {},
   "outputs": [],
   "source": [
    "import numpy as np\n",
    "from matplotlib import pyplot as plt"
   ]
  },
  {
   "cell_type": "markdown",
   "metadata": {},
   "source": [
    "# Bienvenue sur le meilleur notebook\n",
    "\n",
    "On créée tout d'abord une classe Node, qui permettra de structurer chaque noeud de branchement. "
   ]
  },
  {
   "cell_type": "code",
   "execution_count": 2,
   "metadata": {},
   "outputs": [],
   "source": [
    "class Node:\n",
    "    def __init__(self, parent, children, lb, ub, visited):\n",
    "        self.parent = parent\n",
    "        self.children = children\n",
    "        self.lb = lb\n",
    "        self.ub=ub\n",
    "        self.visited = visited\n",
    "    def __str__(self):\n",
    "        return \"Parent : \" +str(self.parent)+\"\\n Children : \"+str(self.children) + \"\\n ub : \"+str(self.ub)+\"\\n lb : \"+str(self.lb) + \"\\n visited : \"+str(slef.visited)"
   ]
  },
  {
   "cell_type": "code",
   "execution_count": 38,
   "metadata": {},
   "outputs": [],
   "source": [
    "def solveNaively(p,d,w):\n",
    "    sortedTasks=(np.argsort((np.array(d)-np.array(p))*np.array(w)))\n",
    "    sol=0\n",
    "    time=0\n",
    "    for i in sortedTasks:\n",
    "        retard=(time+p[i])-d[i]\n",
    "        sol+=retard*w[i]*(retard>0)\n",
    "        time+=p[i]\n",
    "    return(sol)"
   ]
  },
  {
   "cell_type": "code",
   "execution_count": 39,
   "metadata": {},
   "outputs": [],
   "source": [
    "def computeCost(p,d,w,order):\n",
    "    t=0\n",
    "    cost=0\n",
    "    for idx in order:\n",
    "        t += p[idx]\n",
    "        cost += max(0,(t-d[idx])*w[idx])\n",
    "    return cost"
   ]
  },
  {
   "cell_type": "code",
   "execution_count": 40,
   "metadata": {},
   "outputs": [],
   "source": [
    "def solveIntelligent(p,d,w):\n",
    "    visited=[]\n",
    "    time=np.sum(np.array(p))\n",
    "    penalities=(time-np.array(d))*np.array(w)\n",
    "    for i in range(len(p)):\n",
    "        sortedTasks=np.argsort(penalities)\n",
    "        visited.append(sortedTasks[0])\n",
    "        time-=p[sortedTasks[0]]\n",
    "        penalities=(time-np.array(d))*np.array(w)\n",
    "        np.delete(penalities,sortedTasks[0])\n",
    "    Tasks=sortedTasks[::-1]\n",
    "    \n",
    "    return(computeCost(p,d,w,Tasks))"
   ]
  },
  {
   "cell_type": "code",
   "execution_count": 41,
   "metadata": {},
   "outputs": [
    {
     "data": {
      "text/plain": [
       "18"
      ]
     },
     "execution_count": 41,
     "metadata": {},
     "output_type": "execute_result"
    }
   ],
   "source": [
    "solveNaively([1,2,3],[0,1,1],[2,2,2])\n",
    "solveInteligent([1,2,3],[0,1,1],[2,2,2])\n",
    "#[1,2,3]-[1,2,3]\n",
    "#np.sum(np.array([1,2,3]))"
   ]
  },
  {
   "cell_type": "code",
   "execution_count": null,
   "metadata": {},
   "outputs": [],
   "source": [
    "def branch_and_bound(p,d,w):\n",
    "    feascycles = enum_smallcycles(graphe, K) # generate cycles of size <= K \n",
    "    \n",
    "    Tree = [] # list of all nodes created (a list of Node objects)\n",
    "    Queue = [] # list of nodes to process (a list of integers with the index of nodes to process in the Tree)\n",
    "    UB = 100000 # set the upper bound to a sufficiently large number\n",
    "    LB = 0 # set the lower bound to a sufficiently small number \n",
    "    #(if a feasible solution is known we can use its value, here choosing no cycles is a trivial feasible solution)\n",
    "    ϵ = 0.0001 #an optimality tolerance of %0.01\n",
    "    incumbent = [] # initialize the incumbent solution \n",
    "\n",
    "    root = Node(None, [], math.inf, [], []) # at the root node no variables are fixed \n",
    "    Tree.append(root) # start the tree with the root node\n",
    "    Queue.append(0) # start the list of nodes to process with the root node (note that index of root in Tree is 0)\n",
    "    \n",
    "    #continue processing nodes until the list is empty OR \n",
    "    #until an optimality tolerance between the lower bound and the upper bound is reached\n",
    "    while Queue!=[] and 2*(UB-LB)/(UB+LB)>=ϵ:\n",
    "        # process the first node in the queue\n",
    "        currentindex = Queue[0] # note that we follow a first-in-first-out node processing strategy\n",
    "        currentnode = Tree[currentindex]\n",
    "        # solve the LP relaxation of the current node\n",
    "        current_val,current_sol = plne_cycle_relax(graphe, utilities, feascycles, K, currentnode.setzero, currentnode.setone)\n",
    "        #print(current_val)\n",
    "        #print(current_sol) \n",
    "    \n",
    "        # if the current node is feasible then we will proceed to updating the upper bound of the current node\n",
    "        # and checking whether its solution is fractional\n",
    "        if current_sol!=[]:\n",
    "            currentnode.ub = current_val\n",
    "            fractional = False # initialize the indicator for fractional solutions\n",
    "            branchingindex = 0 # initialize the index of branching variable\n",
    "            # test whether the current solution is fractional\n",
    "            # TO COMPLETE\n",
    "            for i in list(range(0,len(current_sol))):\n",
    "                if (current_sol[i]-math.floor(current_sol[i]))>0:\n",
    "                    branchingindex = i\n",
    "                    fractional = True\n",
    "                    break\n",
    "            # note that we follow a first-found branching strategy, i.e., we branch on the first fractional variable found        \n",
    "            # if the current solution is fractional and its bound is promising:\n",
    "            # - create two new nodes \n",
    "            # - add them to the tree (set their parent as currentnode)\n",
    "            # - add their indices to the list of children of current node\n",
    "            # - add the new nodes to the Queue \n",
    "            if (fractional == True and (currentnode.ub-LB)>LB*ϵ): \n",
    "                print(\"Branching on variable cycle_\", branchingindex)\n",
    "                n1=Node(currentnode, [], currentnode.ub, currentnode.setzero.append(branchingindex), [])\n",
    "                n2=Node(currentnode, [], currentnode.ub, [], currentnode.setzero.append(branchingindex))\n",
    "                Tree.append(n1)\n",
    "                Queue.append(len(Tree)-1)\n",
    "                currentnode.children.append(len(Tree)-1)\n",
    "                Tree.append(n2)\n",
    "                Queue.append(len(Tree)-1)\n",
    "                currentnode.children.append(len(Tree)-1)\n",
    "                \n",
    "                # TO COMPLETE :    \n",
    "            # if the current solution is fractional but its bound is not promising then do nothing    \n",
    "            elif (fractional == True and currentnode.ub<=LB):\n",
    "                print(\"Node eliminated by bound\")\n",
    "            # if the current solution is integer update the lower bound and the incumbent solution (if necessary)   \n",
    "            elif fractional == False: #Solution non fractionnelle\n",
    "                print(\"Integer solution with value \", current_val, \" found\")\n",
    "                if(currentnode.ub-LB>0):\n",
    "                    LB=currentnode.ub\n",
    "                    incumbent=current_sol\n",
    "                # TO COMPLETE\n",
    "        \n",
    "        # Calculate the current UB as the maximum of all the upper bounds among the active nodes\n",
    "        # MAJ de la borne dual (si pb de max, si on a un max plus petit on met a jour)\n",
    "        currentUB = math.inf\n",
    "        for node in Tree:\n",
    "            if node.ub < currentUB:\n",
    "                currentUB = node.ub\n",
    "        \n",
    "        # Update the UB if the current UB is better\n",
    "        if currentUB <= UB:\n",
    "            UB = currentUB\n",
    "        # Display the current upper and lower bounds    \n",
    "        print(\"LB= \",LB,\" UB= \", UB)\n",
    "        # When the processing of the node is completed remove the node from the queue     \n",
    "        Queue.remove(currentindex)\n",
    "\n",
    "\n",
    "    # return the incumbent solution \n",
    "    C = list(range(0,len(feascycles)))\n",
    "    bb_cycles = []  \n",
    "    for c in C:\n",
    "        if incumbent[c] == 1:\n",
    "            bb_cycles.append(feascycles[c])\n",
    "    \n",
    "    return bb_cycles"
   ]
  }
 ],
 "metadata": {
  "kernelspec": {
   "display_name": "Python 3",
   "language": "python",
   "name": "python3"
  },
  "language_info": {
   "codemirror_mode": {
    "name": "ipython",
    "version": 3
   },
   "file_extension": ".py",
   "mimetype": "text/x-python",
   "name": "python",
   "nbconvert_exporter": "python",
   "pygments_lexer": "ipython3",
   "version": "3.7.4"
  }
 },
 "nbformat": 4,
 "nbformat_minor": 4
}

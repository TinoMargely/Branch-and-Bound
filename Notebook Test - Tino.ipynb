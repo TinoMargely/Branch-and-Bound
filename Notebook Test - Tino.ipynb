{
 "cells": [
  {
   "cell_type": "markdown",
   "metadata": {},
   "source": [
    "# Projet Recherche Opérationelle - Branch And Bound"
   ]
  },
  {
   "cell_type": "markdown",
   "metadata": {},
   "source": [
    "## Importation des modules"
   ]
  },
  {
   "cell_type": "code",
   "execution_count": 1,
   "metadata": {},
   "outputs": [],
   "source": [
    "import numpy as np\n",
    "import math\n",
    "import copy"
   ]
  },
  {
   "cell_type": "markdown",
   "metadata": {},
   "source": [
    "## Structure de données"
   ]
  },
  {
   "cell_type": "code",
   "execution_count": 2,
   "metadata": {},
   "outputs": [],
   "source": [
    "class Node:\n",
    "    \n",
    "    def __init__(self,idx, parent, children, lb, visited):\n",
    "        self.idx = idx\n",
    "        self.parent = parent\n",
    "        self.children = children\n",
    "        self.lb = lb\n",
    "        self.visited = visited\n",
    "        \n",
    "    def __str__(self):\n",
    "        return (\"\\n Index : \" +str(self.idx)+\n",
    "                \"\\n Parent : \" +str(self.parent)+\n",
    "                \"\\n Children : \"+str(self.children) + \n",
    "                \"\\n lb : \"+str(self.lb)+ \n",
    "                \"\\n visited : \"+str(self.visited))"
   ]
  },
  {
   "cell_type": "code",
   "execution_count": 3,
   "metadata": {},
   "outputs": [],
   "source": [
    "def arborescence(node,Tree):\n",
    "    branch = []\n",
    "    while node.parent != None:\n",
    "        branch.append(node)\n",
    "        node = Tree[node.parent]\n",
    "    branch.append(node)\n",
    "    \n",
    "    return branch"
   ]
  },
  {
   "cell_type": "code",
   "execution_count": 4,
   "metadata": {},
   "outputs": [],
   "source": [
    "#Textbook Example\n",
    "pj = [12,8,15,9]\n",
    "dj = [16,26,25,27]\n",
    "wj = [4,5,3,5]"
   ]
  },
  {
   "cell_type": "code",
   "execution_count": 5,
   "metadata": {},
   "outputs": [],
   "source": [
    "def computeCost(p,d,w,order):\n",
    "    t=0\n",
    "    cost=0\n",
    "    for idx in order:\n",
    "        t += p[idx]\n",
    "        cost += max(0,(t-d[idx])*w[idx])\n",
    "    return cost"
   ]
  },
  {
   "cell_type": "code",
   "execution_count": 6,
   "metadata": {},
   "outputs": [
    {
     "data": {
      "text/plain": [
       "67"
      ]
     },
     "execution_count": 6,
     "metadata": {},
     "output_type": "execute_result"
    }
   ],
   "source": [
    "computeCost(pj,dj,wj,[0,1,3,2])"
   ]
  },
  {
   "cell_type": "code",
   "execution_count": 7,
   "metadata": {},
   "outputs": [],
   "source": [
    "def getPrimal_0(p,d,w):\n",
    "    sortedTasks=(np.argsort((np.array(d)-np.array(p))*np.array(w)))[::-1]\n",
    "    cost=computeCost(p,d,w,sortedTasks)\n",
    "    return(cost,sortedTasks)\n",
    "\n",
    "def getPrimal_1(p,d,w):\n",
    "    sortedTasks=np.argsort(d)\n",
    "    cost=computeCost(p,d,w,sortedTasks)\n",
    "    return(cost,sortedTasks)\n",
    "\n",
    "def getPrimal_2(p,d,w):\n",
    "    tasksLeft=[int(i) for i in range(len(p))]\n",
    "    order=[]\n",
    "    while len(tasksLeft)!= 0:\n",
    "        time=np.sum(np.array(p)[tasksLeft])\n",
    "        penalities=(time-np.array(d)[tasksLeft])*np.array(w)[tasksLeft]\n",
    "        sortedTasks=np.argsort(penalities)\n",
    "        order.append(tasksLeft[sortedTasks[0]])\n",
    "        tasksLeft.pop(sortedTasks[0])\n",
    "    order.reverse()\n",
    "    cost = computeCost(p,d,w,order)\n",
    "    return(cost,order)"
   ]
  },
  {
   "cell_type": "code",
   "execution_count": 8,
   "metadata": {},
   "outputs": [
    {
     "name": "stdout",
     "output_type": "stream",
     "text": [
      "Temps production :  [12, 8, 15, 9]\n",
      "Date limite :       [16, 26, 25, 27]\n",
      "Pénalités :         [4, 5, 3, 5]\n",
      "0 :  (133, array([3, 1, 2, 0], dtype=int64))\n",
      "1 :  (136, array([0, 2, 1, 3], dtype=int64))\n",
      "2 :  (67, [0, 1, 3, 2])\n"
     ]
    }
   ],
   "source": [
    "print(\"Temps production : \", pj)\n",
    "print(\"Date limite :      \", dj)\n",
    "print(\"Pénalités :        \", wj)\n",
    "print(\"0 : \",getPrimal_0(pj,dj,wj))\n",
    "print(\"1 : \",getPrimal_1(pj,dj,wj))\n",
    "print(\"2 : \",getPrimal_2(pj,dj,wj))"
   ]
  },
  {
   "cell_type": "code",
   "execution_count": 9,
   "metadata": {},
   "outputs": [],
   "source": [
    "def getDual_0(p,d,w,visited):\n",
    "    dual=0\n",
    "    time=0\n",
    "    notVisited=list(range(len(p)))\n",
    "    for i in visited:\n",
    "        retard=((p[i]+time)-d[i])\n",
    "        dual+=retard*w[i]*(retard>0)\n",
    "        time+=p[i]\n",
    "        notVisited.remove(i)\n",
    "        \n",
    "    for j in notVisited:\n",
    "        retard=(p[j]+time)-d[j]\n",
    "        dual+=retard*w[j]*(retard>0)\n",
    "    return dual\n",
    "\n",
    "def getDual_1(p,d,w,visited):\n",
    "    dual=0\n",
    "    time=0\n",
    "    notVisited=list(range(len(p)))\n",
    "    for i in visited:\n",
    "        retard=((p[i]+time)-d[i])\n",
    "        dual+=retard*w[i]*(retard>0)\n",
    "        time+=p[i]\n",
    "        notVisited.remove(i)\n",
    "        \n",
    "    return dual\n",
    "\n",
    "def getDual_2(p,d,w,visited):\n",
    "    dual=0\n",
    "    time=np.sum(p)\n",
    "\n",
    "    for i in visited:\n",
    "        retard=(time-d[i])\n",
    "        dual+=retard*w[i]*(retard>0)\n",
    "        time-=p[i]\n",
    "        \n",
    "    return dual"
   ]
  },
  {
   "cell_type": "code",
   "execution_count": 10,
   "metadata": {},
   "outputs": [
    {
     "name": "stdout",
     "output_type": "stream",
     "text": [
      "Si on a fixé l'ordre de k pièces on calcule les pénalités de retard de ces k pièces et on ajoute les pénalités des autres pièces en supposant qu'elles sont en (k+1)ème position : \n",
      " 110\n",
      "Si on a fixé l'ordre de k pièces on calcule les pénalités de retard de ces k pièces : \n",
      " 0\n"
     ]
    }
   ],
   "source": [
    "print(\"Si on a fixé l'ordre de k pièces on calcule les pénalités de retard de ces k pièces et on ajoute les pénalités des autres pièces en supposant qu'elles sont en (k+1)ème position : \\n\",\n",
    "      getDual_0(pj,dj,wj,[2,3]))\n",
    "print(\"Si on a fixé l'ordre de k pièces on calcule les pénalités de retard de ces k pièces : \\n\",\n",
    "      getDual_1(pj,dj,wj,[2,3]))"
   ]
  },
  {
   "cell_type": "code",
   "execution_count": 11,
   "metadata": {},
   "outputs": [],
   "source": [
    "def exploration_0(Queue,Tree,UB):\n",
    "    return(Queue[0])\n",
    "\n",
    "def exploration_1(Queue,Tree,UB):\n",
    "    return(Queue[-1])\n",
    "\n",
    "def exploration_2(Queue,Tree,UB):\n",
    "    bestNode = None\n",
    "    bestLB = -math.inf\n",
    "    for i in range(len(Queue)):\n",
    "        if Tree[Queue[i]].lb > bestLB and Tree[Queue[i]].lb < UB:\n",
    "            bestLB = Tree[Queue[i]].lb\n",
    "            bestNode = i\n",
    "    return(Queue[i])"
   ]
  },
  {
   "cell_type": "markdown",
   "metadata": {},
   "source": [
    "# Branch and Bound"
   ]
  },
  {
   "cell_type": "code",
   "execution_count": 12,
   "metadata": {},
   "outputs": [],
   "source": [
    "def branch_and_bound_display(p,d,w,byLast,getPrimal,getDual,exploration,steps):\n",
    "    \n",
    "    Tasks = list(range(len(p)))\n",
    "    Tree = [] # list of all nodes created (a list of Node objects)\n",
    "    Queue = [] # list of nodes to process (a list of integers with the index of nodes to process in the Tree)\n",
    "    UB = 10000000 # set the upper bound to a sufficiently large number\n",
    "    LB = 0 # set the lower bound to a sufficiently small number \n",
    "    \n",
    "    UB,currentOrder = getPrimal(p,d,w)\n",
    "    if steps:\n",
    "        print(\"First UB : \", UB)\n",
    "    \n",
    "    root = Node(0,None, [], 0, []) # at the root node no variables are fixed \n",
    "    Tree.append(root) # start the tree with the root node\n",
    "    Queue.append(0) # start the list of nodes to process with the root node\n",
    "    \n",
    "    #continue processing nodes until the queue is empty\n",
    "    \n",
    "    nbIterations = 0\n",
    "    \n",
    "    while Queue!=[]:\n",
    "        \n",
    "\n",
    "        # process the first node in the queue\n",
    "\n",
    "        currentIndex = exploration(Queue,Tree,UB)\n",
    "        currentNode = Tree[currentIndex]\n",
    "        nbIterations +=1\n",
    "        \n",
    "        if nbIterations == 1e4:\n",
    "            print(\"UB : \", UB)\n",
    "            print(currentNode)\n",
    "        if nbIterations == 2e5:\n",
    "            print(\"UB : \", UB)\n",
    "            print(currentNode)\n",
    "        if nbIterations == 2e5:\n",
    "            print(\"UB : \", UB)\n",
    "            print(currentNode)\n",
    "        \n",
    "        if steps:\n",
    "            print(\"##################################\")\n",
    "            print(\"Current Node : {}\\n\".format(currentIndex),currentNode )\n",
    "        \n",
    "        if len(currentNode.visited) == len(p):\n",
    "            order = copy.copy(currentNode.visited)\n",
    "            if byLast:\n",
    "                order.reverse()\n",
    "            solutionCost = computeCost(p,d,w,order)\n",
    "            if solutionCost <= UB:\n",
    "                UB = solutionCost\n",
    "                currentOrder=order\n",
    "                \n",
    "        if currentNode.lb < UB:\n",
    "            for nextTask in (set(Tasks)-set(currentNode.visited)):\n",
    "                nextVisited = copy.copy(currentNode.visited)\n",
    "                nextVisited.append(nextTask)\n",
    "                nextLb = getDual(p,d,w, nextVisited)\n",
    "                \n",
    "                newNode = Node(len(Tree)-1,currentIndex, [], nextLb,nextVisited)\n",
    "                Tree.append(newNode)\n",
    "                Queue.append(len(Tree)-1)\n",
    "                currentNode.children.append(len(Tree)-1)\n",
    "        else:\n",
    "            if steps:\n",
    "                print(\"Prune : \", currentIndex)\n",
    "        \n",
    "        # Calculate the current LB as the maximum of all the upper bounds among the active nodes\n",
    "        currentLB = -math.inf\n",
    "        for node in Tree:\n",
    "            if node.lb > currentLB and node.lb <= UB:\n",
    "                currentLB = node.lb\n",
    "        \n",
    "        # Update the LB if the current LB is better\n",
    "        if currentLB >= LB:\n",
    "            LB = currentLB\n",
    "        \n",
    "        # Display the current upper and lower bounds    \n",
    "        if steps:\n",
    "            print(\"LB= \",LB,\" UB= \", UB)\n",
    "        # When the processing of the node is completed remove the node from the queue     \n",
    "        Queue.remove(currentIndex)\n",
    "\n",
    "    # return the  solution\n",
    "    print(\"Number of iterations : \", nbIterations)\n",
    "    \n",
    "    return UB, currentOrder"
   ]
  },
  {
   "cell_type": "code",
   "execution_count": 13,
   "metadata": {},
   "outputs": [],
   "source": [
    "def branch_and_bound(p,d,w,byLast,getPrimal,getDual,exploration):\n",
    "    \n",
    "    Tasks = list(range(len(p)))\n",
    "    Tree = [] # list of all nodes created (a list of Node objects)\n",
    "    Queue = [] # list of nodes to process (a list of integers with the index of nodes to process in the Tree)\n",
    "    UB = 10000000 # set the upper bound to a sufficiently large number\n",
    "    LB = 0 # set the lower bound to a sufficiently small number \n",
    "    \n",
    "    UB,currentOrder = getPrimal(p,d,w)\n",
    "\n",
    "    bestNode = Node(-1,-1, [], 0 ,[])\n",
    "    \n",
    "    root = Node(0,None, [], 0, []) # at the root node no variables are fixed \n",
    "    Tree.append(root) # start the tree with the root node\n",
    "    Queue.append(0) # start the list of nodes to process with the root node\n",
    "    \n",
    "    #continue processing nodes until the queue is empty\n",
    "    \n",
    "    nbIterations = 0\n",
    "    \n",
    "    while Queue!=[]:\n",
    "        \n",
    "        # process the first node in the queue\n",
    "\n",
    "        currentIndex = exploration(Queue,None,None)\n",
    "        currentNode = Tree[currentIndex]\n",
    "        nbIterations +=1\n",
    "        \n",
    "        if currentNode.lb < UB:\n",
    "            \n",
    "            if len(currentNode.visited) == len(p):\n",
    "                order = copy.copy(currentNode.visited)\n",
    "                if byLast:\n",
    "                    order.reverse()\n",
    "                solutionCost = computeCost(p,d,w,order)\n",
    "                if solutionCost <= UB:\n",
    "                    UB = solutionCost\n",
    "                    currentOrder=order\n",
    "                    bestNode = currentNode\n",
    "            else:\n",
    "                for nextTask in (set(Tasks)-set(currentNode.visited)):\n",
    "                    nextVisited = copy.copy(currentNode.visited)\n",
    "                    nextVisited.append(nextTask)\n",
    "                    nextLb = getDual(p,d,w, nextVisited)\n",
    "\n",
    "                    newNode = Node(len(Tree),currentIndex, [], nextLb,nextVisited)\n",
    "                    Tree.append(newNode)\n",
    "                    Queue.append(len(Tree)-1)\n",
    "                    currentNode.children.append(len(Tree)-1)\n",
    "            \n",
    "        # When the processing of the node is completed remove the node from the queue     \n",
    "        Queue.remove(currentIndex)\n",
    "\n",
    "    # return the  solution\n",
    "    \n",
    "    if 2*(UB-bestNode.lb)/(UB+bestNode.lb)<=0.0001:\n",
    "        branch = arborescence(bestNode,Tree)\n",
    "    else:\n",
    "        bestLB = -math.inf\n",
    "        for node in Tree:\n",
    "            if node.lb > bestLB and node.lb <=UB:\n",
    "                bestLB = node.lb\n",
    "                bestNode=node\n",
    "        branch = arborescence(bestNode,Tree)\n",
    "\n",
    "    return UB, currentOrder, nbIterations, branch, Tree"
   ]
  },
  {
   "cell_type": "code",
   "execution_count": 14,
   "metadata": {},
   "outputs": [],
   "source": [
    "#Textbook Example\n",
    "pj = [12,8,15,9]\n",
    "dj = [16,26,25,27]\n",
    "wj = [4,5,3,5]"
   ]
  },
  {
   "cell_type": "code",
   "execution_count": 15,
   "metadata": {},
   "outputs": [
    {
     "name": "stdout",
     "output_type": "stream",
     "text": [
      "65\n",
      "59\n",
      "44\n",
      "17\n",
      "38\n",
      "17\n",
      "8\n",
      "8\n"
     ]
    }
   ],
   "source": [
    "solution, order, nbIterations, branch, Tree = branch_and_bound(pj,dj,wj, False, getPrimal_1, getDual_1,exploration_1)\n",
    "print(nbIterations)\n",
    "solution, order, nbIterations, branch, Tree = branch_and_bound(pj,dj,wj, False, getPrimal_2, getDual_1,exploration_1)\n",
    "print(nbIterations)\n",
    "solution, order, nbIterations, branch, Tree = branch_and_bound(pj,dj,wj, True, getPrimal_1, getDual_2,exploration_0)\n",
    "print(nbIterations)\n",
    "solution, order, nbIterations, branch, Tree = branch_and_bound(pj,dj,wj, True, getPrimal_1, getDual_2,exploration_1)\n",
    "print(nbIterations)\n",
    "solution, order, nbIterations, branch, Tree = branch_and_bound(pj,dj,wj, True, getPrimal_0, getDual_2,exploration_0)\n",
    "print(nbIterations)\n",
    "solution, order, nbIterations, branch, Tree = branch_and_bound(pj,dj,wj, True, getPrimal_0, getDual_2,exploration_1)\n",
    "print(nbIterations)\n",
    "solution, order, nbIterations, branch, Tree = branch_and_bound(pj,dj,wj, True, getPrimal_2, getDual_2,exploration_0)\n",
    "print(nbIterations)\n",
    "solution, order, nbIterations, branch, Tree = branch_and_bound(pj,dj,wj, True, getPrimal_2, getDual_2,exploration_1)\n",
    "print(nbIterations)"
   ]
  },
  {
   "cell_type": "markdown",
   "metadata": {},
   "source": [
    "## Test de notre fonction Branch-And-Bound : "
   ]
  },
  {
   "cell_type": "code",
   "execution_count": 16,
   "metadata": {},
   "outputs": [],
   "source": [
    "def genInstancies(n):\n",
    "    p=np.random.randint(1,15,n)\n",
    "    d=np.random.randint(3,int(0.5*n*15),n)\n",
    "    w=np.random.randint(1,5,n)\n",
    "    return(p,d,w)"
   ]
  },
  {
   "cell_type": "code",
   "execution_count": 17,
   "metadata": {},
   "outputs": [
    {
     "name": "stdout",
     "output_type": "stream",
     "text": [
      "p :  [11  6  9  8]\n",
      "d :  [14 17 17 26]\n",
      "w :  [4 4 3 1]\n",
      "Final Results: 8 Iterations\n",
      "Order : [0, 1, 2, 3] | Cost : 35\n"
     ]
    }
   ],
   "source": [
    "p,d,w = genInstancies(4)\n",
    "print(\"p : \", p)\n",
    "print(\"d : \", d)\n",
    "print(\"w : \", w)\n",
    "solution, order, nbIterations, branch, tree = branch_and_bound(p,d,w, True, getPrimal_2, getDual_2,exploration_1)\n",
    "print(\"Final Results: {} Iterations\".format(nbIterations))\n",
    "print(\"Order : {} | Cost : {}\".format(order,computeCost(p,d,w,order)))"
   ]
  },
  {
   "cell_type": "code",
   "execution_count": 18,
   "metadata": {},
   "outputs": [
    {
     "data": {
      "text/plain": [
       "[<__main__.Node at 0x1f949056a08>,\n",
       " <__main__.Node at 0x1f949056c48>,\n",
       " <__main__.Node at 0x1f949056508>]"
      ]
     },
     "execution_count": 18,
     "metadata": {},
     "output_type": "execute_result"
    }
   ],
   "source": [
    "branch"
   ]
  },
  {
   "cell_type": "markdown",
   "metadata": {},
   "source": [
    "## Visualisation"
   ]
  },
  {
   "cell_type": "code",
   "execution_count": 23,
   "metadata": {},
   "outputs": [],
   "source": [
    "import pydot\n",
    "from networkx.drawing.nx_pydot import graphviz_layout\n",
    "import networkx as nx\n",
    "import matplotlib.pyplot as plt"
   ]
  },
  {
   "cell_type": "code",
   "execution_count": 24,
   "metadata": {},
   "outputs": [],
   "source": [
    "#Textbook Example\n",
    "pj = [12,8,15,9]\n",
    "dj = [16,26,25,27]\n",
    "wj = [4,5,3,5]\n",
    "solution, order, nbIterations, branch, Tree = branch_and_bound(pj,dj,wj, True, getPrimal_2, getDual_2,exploration_1)"
   ]
  },
  {
   "cell_type": "code",
   "execution_count": 37,
   "metadata": {},
   "outputs": [
    {
     "data": {
      "image/png": "[encoded data removed]",
      "text/plain": [
       "<Figure size 864x576 with 1 Axes>"
      ]
     },
     "metadata": {},
     "output_type": "display_data"
    }
   ],
   "source": [
    "index = [node.idx for node in tree]\n",
    "mygraph=nx.Graph()\n",
    "mygraph.add_nodes_from(index)\n",
    "for node in tree:\n",
    "    if node.parent != None:\n",
    "        mygraph.add_edge(node.idx, node.parent)\n",
    "\n",
    "#for i in range(len(branch)-1):\n",
    "    #mygraph.add_edge(branch[i].idx,branch[i+1].idx,color='r',weight=2)\n",
    "    \n",
    "plt.figure(figsize=(12,8))\n",
    "pos = graphviz_layout(mygraph, prog=\"dot\")\n",
    "nx.draw(mygraph, pos,with_labels=True,node_size=1200,node_color=\"lightblue\")\n",
    "plt.show()"
   ]
  },
  {
   "cell_type": "code",
   "execution_count": null,
   "metadata": {},
   "outputs": [],
   "source": []
  }
 ],
 "metadata": {
  "kernelspec": {
   "display_name": "Python 3",
   "language": "python",
   "name": "python3"
  },
  "language_info": {
   "codemirror_mode": {
    "name": "ipython",
    "version": 3
   },
   "file_extension": ".py",
   "mimetype": "text/x-python",
   "name": "python",
   "nbconvert_exporter": "python",
   "pygments_lexer": "ipython3",
   "version": "3.7.4"
  }
 },
 "nbformat": 4,
 "nbformat_minor": 4
}

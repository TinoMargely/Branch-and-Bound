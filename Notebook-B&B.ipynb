{
 "cells": [
  {
   "cell_type": "markdown",
   "metadata": {},
   "source": [
    "# Projet Recherche Opérationelle - Branch And Bound"
   ]
  },
  {
   "cell_type": "markdown",
   "metadata": {},
   "source": [
    "## Introduction"
   ]
  },
  {
   "cell_type": "markdown",
   "metadata": {},
   "source": [
    "Lors de ce projet nous nous sommes penchés sur l'implémentation de l'algorithme de branch-and-bound pour un problème d'ordonnancement étudié en TD (présentation détaillée problème ci dessous). Outre la mise en pratique des connaissances aquises au cours de ce semestre, ce projet nous aura permis une compréhension plus fine de cet algorithme, en travaillant nottament sur chaque composante de l'algorithme : \n",
    "* sa règle de branchement \n",
    "* sa méthode d'exploration \n",
    "* le calcul de ses bornes (primales et duales)\n",
    "\n",
    "\n",
    "__Le problème considéré :__\n",
    "\n",
    "Un atelier de production doit usiner un ensemble $J=\\{1,\\dots,n\\}$ de pièces. Pour cela, l'atelier possède une machine unique. Chaque pièce $j \\in J$ nécessitera $p_j$ unités de temps pour être usinée. Nous supposons que l'on se trouve à la date t=0 et chaque pièce $j \\in J$ doit être prête à la date $d_j$. Si cette date n'est pas respectée, l'usine devra payer une pénalité $w_j$ par unité de temps de retard. Il s'agit donc d'un __problème de minimisation__ dans lequel nous devons déterminer l'ordre de passage des pièces sur la machine qui peremttra de minimiser les pénalités de retard.\n",
    "\n",
    "__Le plan du projet :__\n",
    "\n",
    "* __Structures de données__\n",
    "\n",
    "Choix des différentes structures utiles pour l'algorithme et pour définir les instances du problème. \n",
    "\n",
    "* __Déclaration externe de méthodes utiles pour branch and bound__ \n",
    "\n",
    "Implémentation de diverses méthodes utiles lors de l'implémentation de l'algorithme de branch and bound. \n",
    "\n",
    "* __Travail sur les composantes de branch and bound__ \n",
    "\n",
    "Nous implémentons différentes méthodes de calcul de bornes primales et duales ainsi que différentes méthodes d'exploration de l'arbre de branchement. Nous étudierons l'effet de ces différentes méthodes sur les performances de l'algorithme.\n",
    "\n",
    "* __Algorithme de branch and bound__ \n",
    "\n",
    "Nous implémentons l'algorithme de branch and bound. \n",
    "\n",
    "* __Evaluation des performances__ \n",
    "\n",
    "Nous étudions la performance de l'algorithme en modifiant ses composantes (méthodes de calcul de bornes duales et primales, méthode d'exploration).\n",
    "\n",
    "* __Visualisation de l'arbre de branchement__\n",
    "\n",
    "\n"
   ]
  },
  {
   "cell_type": "markdown",
   "metadata": {},
   "source": [
    "## Importation des modules\n",
    "\n",
    "Nous importons tout d'abord tous les modules nécessaires dans ce projet. Nous utilisons les modules classiques __numpy__ et __matplotlib (pyplot)__. Nous utilisons égalements les modules __networkx__ et un module particulier de pydot (cellule pour installation ci dessous) lors de la visualisation de parcours de l'arbre de branchement."
   ]
  },
  {
   "cell_type": "markdown",
   "metadata": {},
   "source": [
    "conda install pydot"
   ]
  },
  {
   "cell_type": "code",
   "execution_count": 1,
   "metadata": {},
   "outputs": [],
   "source": [
    "import numpy as np\n",
    "import math\n",
    "import networkx as nx\n",
    "from networkx.drawing.nx_pydot import graphviz_layout\n",
    "from matplotlib import pyplot as plt\n",
    "import copy\n",
    "import time"
   ]
  },
  {
   "cell_type": "markdown",
   "metadata": {},
   "source": [
    "## Structure de données\n",
    "\n",
    "*Nous définissons un certain nombre de structures de données, liées au problème ou à l'algorithme de Branch and Bound.*\n",
    "\n",
    "### Les instances du problème\n",
    "\n",
    "Le problème possède 3 données clefs : \n",
    "* le nombre d'unités de temps nécessaire à l'usinage de chaque pièce\n",
    "* la date d'usinage a laquelle chque pièce doit être usinée\n",
    "* la pénalité de retard associée à chaque pièce\n",
    "\n",
    "Nous faisons le choix d'utiliser des listes pour stocker ces 3 instances du problème. Un problème donné sera donc caractérisé par 3 listes : \n",
    "* une liste __p__\n",
    "* une liste __d__\n",
    "* une liste __w__\n",
    "\n",
    "### Les noeuds \n",
    "\n",
    "Chaque noeud de l'arbre de branchement sera un objet. Chaque objet Noeud créé possède :\n",
    "* Un indexe : __idx__\n",
    "* Un noeud parent : __parent__\n",
    "* Une liste de noeuds enfants : __children__\n",
    "* Une borne duale associée (lower bound ici, puisqu'il s'agit d'un problème de minimisation) : __lb__\n",
    "* Une liste de noeuds visités : __visited__.\n",
    "* Une méthode d'affichage.\n",
    "\n",
    "Dans cette première partie, les index de noeuds seront des entiers, leur stockage sera rapide. Dans la partie __affichage__ les index seront des chaines de caractères plus ou moins longues, leur stockage sera légèrement plus long."
   ]
  },
  {
   "cell_type": "markdown",
   "metadata": {},
   "source": [
    "__Exemple__\n",
    "\n",
    "![Arbre de branchement](EX2.png)\n",
    "\n",
    "En considérant que les noeud en vert on déjà été visités et que les noeuds rouges ne l'ont pas été, le noeud 1 représenté ci dessus possèderait (selon la structure choisie) les éléments suivants : \n",
    "* __idx__=1\n",
    "* __parent__=0\n",
    "* __children__=[ 4 , 5 ]\n",
    "* __visited__=[ 0 ]"
   ]
  },
  {
   "cell_type": "code",
   "execution_count": 2,
   "metadata": {},
   "outputs": [],
   "source": [
    "class Node:\n",
    "    \n",
    "    def __init__(self,idx, parent, children, lb, visited):\n",
    "        self.idx = idx\n",
    "        self.parent = parent\n",
    "        self.children = children\n",
    "        self.lb = lb\n",
    "        self.visited = visited\n",
    "        \n",
    "    def __str__(self):\n",
    "        return (\"Parent : \" +str(self.parent)+\n",
    "                \"\\n Children : \"+str(self.children) + \n",
    "                \"\\n lb : \"+str(self.lb)+ \n",
    "                \"\\n visited : \"+str(self.visited))"
   ]
  },
  {
   "cell_type": "markdown",
   "metadata": {},
   "source": [
    "## Déclaration externe de fonctions utiles pour branch and bound\n",
    "\n",
    "### Fonctions abroresence et computeCost\n",
    "\n",
    "*Nous implémentons à présent un certain nombre de fonctions que nous utiliserons lors de l'implémentation de l'algorithme de branch and bound.*\n",
    "\n",
    "La première fonction est une fonction arborescence. Elle nous permet de donner une branche complète d'arbre de branchement en partant d'une feuille. Dans l'__exemple__ ci-dessus, la fonction : __arborescence(4,Tree)__ renverrait : [4,1,0]. "
   ]
  },
  {
   "cell_type": "markdown",
   "metadata": {},
   "source": [
    "Afin de déterminer facilement le cout d'une solution donnée, nous implémentons une méthode générale computeCost. A partir des données du problème (p,d,w) et d'un ordre de taches à effectuer, la fonction renvoie le cout de la solution."
   ]
  },
  {
   "cell_type": "code",
   "execution_count": 3,
   "metadata": {},
   "outputs": [],
   "source": [
    "def arborescence(node,Tree):\n",
    "    branch = []\n",
    "    while node.parent != None:\n",
    "        branch.append(node)\n",
    "        node = Tree[node.parent]\n",
    "    branch.append(node)\n",
    "    \n",
    "    return branch"
   ]
  },
  {
   "cell_type": "code",
   "execution_count": 4,
   "metadata": {},
   "outputs": [],
   "source": [
    "def computeCost(p,d,w,order):\n",
    "    t=0\n",
    "    cost=0\n",
    "    for idx in order:\n",
    "        t += p[idx]\n",
    "        cost += max(0,(t-d[idx])*w[idx])\n",
    "    return cost"
   ]
  },
  {
   "cell_type": "markdown",
   "metadata": {},
   "source": [
    "Afin de tester la dernière méthode nous utilisons le problème vu en TD (*exercice 7, TD branch and bound*) dont les instances sont rappelées ci-dessous : \n",
    "\n",
    "* unités de temps pour que les pièces soient usinées : p=[12,8,15,9]\n",
    "* date auxquelles les pièces doivent être prêtes : d=[16,26,25,27]\n",
    "* pénalités de retard : w=[4,5,3,5]"
   ]
  },
  {
   "cell_type": "code",
   "execution_count": 5,
   "metadata": {},
   "outputs": [],
   "source": [
    "p = [12,8,15,9]\n",
    "d = [16,26,25,27]\n",
    "w = [4,5,3,5]"
   ]
  },
  {
   "cell_type": "markdown",
   "metadata": {},
   "source": [
    "La solution que nous testons (ordre d'usinage : [0,1,3,2]) est la solution optimale, obtenue lors du TD. Son coût vaut 67. On vérifie donc que la fonction computeCost nous donne bien 67 avec cet ordre d'usinage."
   ]
  },
  {
   "cell_type": "code",
   "execution_count": 6,
   "metadata": {},
   "outputs": [
    {
     "data": {
      "text/plain": [
       "67"
      ]
     },
     "execution_count": 6,
     "metadata": {},
     "output_type": "execute_result"
    }
   ],
   "source": [
    "computeCost(p,d,w,[0,1,3,2])"
   ]
  },
  {
   "cell_type": "markdown",
   "metadata": {},
   "source": [
    "## Travail sur les composantes de Branch and Bound\n",
    "\n",
    "### Calculs de bornes primales\n",
    "\n",
    "L'idée de ce projet est de tester différentes composantes de l'algorithme de Branch and Bound, afin de voir leur impact sur les performances de l'algorithme. \n",
    "\n",
    "Nous nous concentrons tout d'abord sur le calcul des bornes primales. Le calcul de borne primale s'effectue au début de l'algorithme. Plus le calcul est fin, i.e plus la borne primale obtenue possède une valeur faible, plus l'algorithme ira vite. En effet, une borne primale assez faible permettra d'élaguer plus rapidement des branches et donc de parcourir moins de noeuds.\n",
    "L'idée est donc d'essayer de trouver la méthode la plus interessante.\n",
    "\n",
    "\n",
    "Nous avons fait le choix de coder différentes fonctions :\n",
    "* __getPrimal_0__ : nous calculons une solution en usinant les pièces selon l'ordre croissant des dates d'usinage au plus tard.\n",
    "\n",
    "\n",
    "* __getPrimal_1__ : nous calculons une solution en usinant les pièces selon l'ordre croissant des (dates d'usinage au plus tard-le temps d'usinage)$*$pénalité\n",
    "Comme les premières pièces engendrent le moins de retard, nous nous sommes dit qu'il est possible d'obtenir une meilleure borne primale en réflechissant à la position des derniers éléments. Cela nous a amené à la fonction : \n",
    "\n",
    "\n",
    "* __getPrimal_2__ : nous calculons une solution en mettant à la dernière position disponible l'élément non traité donnant lieu à la plus petite pénalité de retard."
   ]
  },
  {
   "cell_type": "code",
   "execution_count": 7,
   "metadata": {},
   "outputs": [],
   "source": [
    "def getPrimal_0(p,d,w):\n",
    "    sortedTasks = np.argsort(d)\n",
    "    cost = computeCost(p,d,w,sortedTasks)\n",
    "    return(cost,sortedTasks)\n",
    "\n",
    "\n",
    "def getPrimal_1(p,d,w):\n",
    "    sortedTasks = (np.argsort((np.array(d)-np.array(p))*np.array(w)))[::-1]\n",
    "    cost = computeCost(p,d,w,sortedTasks)\n",
    "    return(cost,sortedTasks)\n",
    "\n",
    "\n",
    "def getPrimal_2(p,d,w):\n",
    "    tasksLeft = [int(i) for i in range(len(p))]\n",
    "    order = []\n",
    "    while len(tasksLeft)!= 0:\n",
    "        time = np.sum(np.array(p)[tasksLeft])\n",
    "        penalities = (time-np.array(d)[tasksLeft])*np.array(w)[tasksLeft]\n",
    "        sortedTasks = np.argsort(penalities)\n",
    "        order.append(tasksLeft[sortedTasks[0]])\n",
    "        tasksLeft.pop(sortedTasks[0])\n",
    "    order.reverse()\n",
    "    cost = computeCost(p,d,w,order)\n",
    "    return(cost,order)"
   ]
  },
  {
   "cell_type": "code",
   "execution_count": 8,
   "metadata": {},
   "outputs": [
    {
     "name": "stdout",
     "output_type": "stream",
     "text": [
      "Temps production :  [12, 8, 15, 9]\n",
      "Date limite :       [16, 26, 25, 27]\n",
      "Pénalités :         [4, 5, 3, 5]\n",
      "0 :  (136, array([0, 2, 1, 3]))\n",
      "1 :  (133, array([3, 1, 2, 0]))\n",
      "2 :  (67, [0, 1, 3, 2])\n"
     ]
    }
   ],
   "source": [
    "print(\"Temps production : \", p)\n",
    "print(\"Date limite :      \", d)\n",
    "print(\"Pénalités :        \", w)\n",
    "print(\"0 : \",getPrimal_0(p,d,w))\n",
    "print(\"1 : \",getPrimal_1(p,d,w))\n",
    "print(\"2 : \",getPrimal_2(p,d,w))"
   ]
  },
  {
   "cell_type": "markdown",
   "metadata": {},
   "source": [
    "### Calcul des bornes duales\n",
    "\n",
    "Nous nous concentrons maintenant sur le calcul des bornes duales. Le calcul de bornes duales s'effectue à chaque ajout d'un nouveau noeud dans l'arbre. Ces bornes duales constituent le coeur de l'algorithme du Branch and Bound, et plus le calcul sera rapide ou les bornes de qualité, plus l'algorithme sera efficace.  \n",
    "Encore une fois, comme les premières pièces engendrent le moins de retard, nous définissons deux \"types\" de fonctions de calcul de bornes duales : Un calcul qui calcule ces bornes pour des pièces placées en début de planning, et une pour des pièces placées en fin de planning.\n",
    "\n",
    "L'idée est donc d'essayer de trouver la méthode la plus interessante.\n",
    "\n",
    "Nous avons donc codé les 3 fonctions suivantes : \n",
    "\n",
    "* __getDual_0__ : Si on a fixé l'ordre de $k$ pièces on calcule les pénalités de retard de ces $k$ pièces et on ajoute les pénalités des autres pièces en supposant qu'elles sont en $(k+1)$ème position. (Dans le cas où les $k$ pièces sont positionnées aux positions $[1,2,\\ldots,k-1,k]$)\n",
    "\n",
    "\n",
    "* __getDual_1__ : Si on a fixé l'ordre de $k$ pièces on calcule les pénalités de retard de ces $k$ pièces. (Dans le cas où les $k$ pièces sont positionnées aux positions $[1,2,\\ldots,k-1,k]$)\n",
    "\n",
    "\n",
    "* __getDual_2__ : Si on a fixé l'ordre de $k$ pièces on calcule les pénalités de retard de ces $k$ pièces. (Dans le cas où les $k$ pièces sont positionnées aux positions $[n-k+1, n-k+2,\\ldots, n-1,n]$)"
   ]
  },
  {
   "cell_type": "code",
   "execution_count": 9,
   "metadata": {},
   "outputs": [],
   "source": [
    "def getDual_0(p,d,w,visited):\n",
    "    dual=0\n",
    "    time=0\n",
    "    notVisited=list(range(len(p)))\n",
    "    for i in visited:\n",
    "        retard=((p[i]+time)-d[i])\n",
    "        dual+=retard*w[i]*(retard>0)\n",
    "        time+=p[i]\n",
    "        notVisited.remove(i)\n",
    "        \n",
    "    for j in notVisited:\n",
    "        retard=(p[j]+time)-d[j]\n",
    "        dual+=retard*w[j]*(retard>0)\n",
    "    return dual\n",
    "\n",
    "def getDual_1(p,d,w,visited):\n",
    "    dual = 0\n",
    "    time = 0\n",
    "    notVisited = list(range(len(p)))\n",
    "    for i in visited:\n",
    "        retard = ((p[i]+time)-d[i])\n",
    "        dual += retard*w[i]*(retard>0)\n",
    "        time += p[i]\n",
    "        notVisited.remove(i)\n",
    "    return dual\n",
    "\n",
    "def getDual_2(p,d,w,visited):\n",
    "    dual = 0\n",
    "    time = np.sum(p)\n",
    "    for i in visited:\n",
    "        retard = (time-d[i])\n",
    "        dual += retard*w[i]*(retard>0)\n",
    "        time -= p[i] \n",
    "    return dual"
   ]
  },
  {
   "cell_type": "code",
   "execution_count": 10,
   "metadata": {},
   "outputs": [
    {
     "name": "stdout",
     "output_type": "stream",
     "text": [
      "Temps production :  [12, 8, 15, 9]\n",
      "Date limite :       [16, 26, 25, 27]\n",
      "Pénalités :         [4, 5, 3, 5]\n",
      "0 :  40\n",
      "1 :  0\n"
     ]
    }
   ],
   "source": [
    "p = [12,8,15,9]\n",
    "d = [16,26,25,27]\n",
    "w = [4,5,3,5]\n",
    "\n",
    "print(\"Temps production : \", p)\n",
    "print(\"Date limite :      \", d)\n",
    "print(\"Pénalités :        \", w)\n",
    "print(\"0 : \", getDual_0(p,d,w,[0,1]))\n",
    "print(\"1 : \", getDual_1(p,d,w,[1]))"
   ]
  },
  {
   "cell_type": "markdown",
   "metadata": {},
   "source": [
    "__Note :__  Afin de mieux comprendre ce qu'implique le choix d'une des deux méthodes et comment elle permet de dérouler l'arbre, nous proposerons des fonctions de visualisation qui permettront d'observer la construction de ce dernier."
   ]
  },
  {
   "cell_type": "markdown",
   "metadata": {},
   "source": [
    "### Méthodes d'exploration\n",
    "\n",
    "Finalement, nous allons essayer différentes méthodes d'exploration de l'arbre de décision : \n",
    "\n",
    "* __exploration_0__ : \"Breadth First\" - Parcours en largeur de l'arbre. \n",
    "\n",
    "Cette méthode explorera tous les noeuds d'un niveau de l'arbre avant de passer au suivant.\n",
    "\n",
    "* __exploration_1__ : \"Depth First\" - Parcours en profondeur de l'arbre. \n",
    "\n",
    "Contrairement à la méthode précédente, cette méthode d'exploration va parcourir les branches en intégralité avant de remonter. Cette approche est à priori profitable puisque elle permet d'ajuster plus rapidement $z_P$ et donc de plus rapidement élaguer des branches de l'arbre.\n",
    "\n",
    "* __exploration_2__ : \"Best First\" - Meilleur d'abord. \n",
    "\n"
   ]
  },
  {
   "cell_type": "code",
   "execution_count": 11,
   "metadata": {},
   "outputs": [],
   "source": [
    "def exploration_0(Queue,Tree,UB):\n",
    "    return(Queue[0])\n",
    "\n",
    "def exploration_1(Queue,Tree,UB):\n",
    "    return(Queue[-1])\n",
    "\n",
    "def exploration_2(Queue,Tree,UB):\n",
    "    bestNode = Queue[-1]\n",
    "    bestLB = -math.inf\n",
    "    for idx in Queue:\n",
    "        if Tree[idx].lb > bestLB and Tree[idx].lb < UB:\n",
    "            bestLB = Tree[idx].lb\n",
    "            bestNode = idx\n",
    "    return(bestNode)"
   ]
  },
  {
   "cell_type": "markdown",
   "metadata": {},
   "source": [
    "## Branch and Bound\n",
    "\n",
    "Nous allons ici décrire le fonctionnement de notre algorithme de _Branch and Bound_ qui sera au coeur de notre projet. Afin de facilement comparer les performances de nos différentes approches et de leurs méthodes associées, nous avons décidé de faire un algorithme le plus général possibles. Ses entrées sont les suivantes : \n",
    "\n",
    "__Entrées :__\n",
    "\n",
    "* __p :__ Donnée du problème : Temps de production de chaque pièce à usiner.\n",
    "\n",
    "* __d :__ Donnée du problème : Date limite de production de chaque pièce à usiner. Chaque pièce dont la production se terminera après cette date entraînera une pénalité de retard. \n",
    "\n",
    "* __w :__ Donnée du problème : Poids associé à la pénalité de retard. Dans un contexte d'entreprise, certains retards seront \"moins importants\" que d'autres. Une pièce très importante aura un poids associé à sa pénalité de retard très élevé.\n",
    "\n",
    "* __byLast :__ Booléen : Indique si les pièces sont ajoutées par la fin (=_True_)(_Méthode 2_) ou par le début (=_False_)(_Méthode 1_). Cette option n'aura pas beaucoup d'impact sur notre algorithme, elle permettra cependant de bien penser à inverser l'ordre des pièces avant d'utiliser notre fonction calculant le coût de l'ordonnancement proposé. \n",
    "\n",
    "* __getPrimal :__ Fonction utilisateur :  Fonction calculant la première borne primale au début de l'algorithme. Passer cet argument sous forme de fonction nous permettra de comparer diférentes approches sans avoir à coder un nouvel algorithme de _Branch and Bound_.\n",
    "\n",
    "* __getDual :__ Fonction utilisateur :  Fonction caculant les bornes duales à chaque noeud de l'arbre. L'intérêt de passer cet argument en paramètre est le même que pour _getPrimal_.\n",
    "\n",
    "* __exploration :__ Fonction utilisateur :  Fonction retournant le prochain noeud à visiter à chaque étape de l'algorithme.\n",
    "\n",
    "__Sorties :__\n",
    "\n",
    "* __UB :__ Solution du problème.\n",
    "\n",
    "* __currentOrder :__ Ordonnancement associé à cette solution.\n",
    "\n",
    "* __nbIterations :__ Nombre d'itérations de l'algorithme avant de retourner la solution.\n",
    "\n",
    "* __branch :__ Liste des noeuds remontant du noeud solution jusqu'au noeud racine (Utilisé pour surligner la solution sur l'affichage de l'arbre de branchement).\n",
    "\n",
    "* __Tree :__ Arbre de branchement final."
   ]
  },
  {
   "cell_type": "code",
   "execution_count": 12,
   "metadata": {},
   "outputs": [],
   "source": [
    "def branch_and_bound(p,d,w,byLast,getPrimal,getDual,exploration):\n",
    "    \n",
    "    Tasks = list(range(len(p)))\n",
    "    Tree = [] # list of all nodes created (a list of Node objects)\n",
    "    Queue = [] # list of nodes to process (a list of integers with the index of nodes to process in the Tree)\n",
    "    UB = 10000000 # Upper Bound of the problem\n",
    "    LB = 0 # best Lower Bound of the problem \n",
    "    \n",
    "    UB,currentOrder = getPrimal(p,d,w) #We start by computing the first primal/upper bound.\n",
    "\n",
    "    bestNode = Node(-1,-1, [], 0 ,[]) #default best node\n",
    "    \n",
    "    root = Node(0,None, [], 0, []) # define the root node of the tree\n",
    "    Tree.append(root) # start the tree with the root node\n",
    "    Queue.append(0) # start the list of nodes to process with the root node\n",
    "    \n",
    "    #continue processing nodes until the queue is empty\n",
    "    \n",
    "    nbIterations = 0\n",
    "    \n",
    "    while len(Queue)!=0 :\n",
    "        \n",
    "        # process the nodes in the queue according to the chosen exploration method\n",
    "        \n",
    "        currentIndex = exploration(Queue,Tree,UB)\n",
    "        currentNode = Tree[currentIndex]\n",
    "        nbIterations += 1\n",
    "        \n",
    "        if currentNode.lb < UB:\n",
    "            \n",
    "            # If the processed node corresponds to a \"full-schedule\" we check whether this solution is an improvement or not\n",
    "            # If so, we update the problem Upper Bound / best order / best node\n",
    "            \n",
    "            if len(currentNode.visited) == len(p):\n",
    "                order = copy.copy(currentNode.visited)\n",
    "                if byLast:\n",
    "                    order.reverse()\n",
    "                solutionCost = computeCost(p,d,w,order)\n",
    "                if solutionCost <= UB:\n",
    "                    UB = solutionCost\n",
    "                    currentOrder = order\n",
    "                    bestNode = currentNode\n",
    "            else:\n",
    "                \n",
    "                #for each task not processed yet we create a new node\n",
    "                for nextTask in (set(Tasks)-set(currentNode.visited)):\n",
    "                    nextVisited = copy.copy(currentNode.visited)\n",
    "                    nextVisited.append(nextTask)\n",
    "                    nextLb = getDual(p,d,w, nextVisited)\n",
    "\n",
    "                    newNode = Node(len(Tree),currentIndex, [], nextLb,nextVisited)\n",
    "                    Tree.append(newNode)\n",
    "                    Queue.append(len(Tree)-1)\n",
    "                    currentNode.children.append(len(Tree)-1)\n",
    "            \n",
    "        # When the processing of the node is completed remove the node from the queue     \n",
    "        Queue.remove(currentIndex)\n",
    "\n",
    "    # return the  solution\n",
    "    \n",
    "    if (UB-bestNode.lb)<=0.0001:\n",
    "        branch = arborescence(bestNode,Tree)\n",
    "    \n",
    "    # If the best node is not a leaf, the bestNode variable is still the default one default\n",
    "    else:\n",
    "        bestLB = -math.inf\n",
    "        for node in Tree:\n",
    "            if node.lb > bestLB and node.lb <=UB:\n",
    "                bestLB = node.lb\n",
    "                bestNode=node\n",
    "        branch = arborescence(bestNode,Tree)\n",
    "\n",
    "    return UB, currentOrder, nbIterations, branch, Tree"
   ]
  },
  {
   "cell_type": "markdown",
   "metadata": {},
   "source": [
    "## Performances de l'algorithme de Branch and Bound\n",
    "\n",
    "*Nous mettons en place plusieurs tests afin de comparer les performances de nos différentes méthodes de calcul de bornes, des méthodes d'exploration, et de notre algorithme sur des problèmes de différentes tailles*\n",
    "\n",
    "### Bornes duales, Bornes primales, Méthode d'exploration : \n",
    "\n",
    "Comme décrit plus haut, nous avons codé différentes fonction pour le calcul de bornes primales et de bornes duales, ainsi que différentes méthodes d'exploration de l'arbre de _Branch and Bound_. Nous comparerons ces différentes méthodes de la manière suivante : \n",
    "\n",
    "* __Bornes Primales :__ La comparaison des méthodes de calcul de bornes primales sera assez simple. En effet plus la valeur trouvée est petite plus la méthode est efficace. Nous comparerons donc les valeurs moyennes des bornes primales trouvées sur différentes instances aléatoires avec chacune de nos fonctions.\n",
    "\n",
    "\n",
    "* __Bornes Duales :__ La comparaison des méthodes de calcul de bornes duales ne se fera pas sur la valeur de ces dernières, mais directement sur la performance de l'agorithme. Nos différentes méthodes correspondent à deux règles de branchement et impliquent des parcours de l'arbre différent, avec un ajout des pièces _\"croissant\"/\"décroissant\"_. Nous comparerons le nombre d'itérations et le temps d'exécution nécessaire à l'obtention d'une solution.\n",
    "\n",
    "\n",
    "* __Méthodes d'exploration :__ Nous avons proposé trois méthodes d'exploration de l'arbre de _Branch and Bound_ différentes. nous observerons les implication du choix de chacune de ces méthodes sur le nombre d'itérations et le temps d'exécution de l'algorithme."
   ]
  },
  {
   "cell_type": "markdown",
   "metadata": {},
   "source": [
    "### Instances aléatoires : \n",
    "\n",
    "*Avant d'entamer les tests de performances, nous introduisons un générateur d'instances*\n",
    "\n",
    "Nous définissons ci-dessous une fonction qui nous permettra de générer des instances aléatoires de problèmes d'ordonnancement. Cette fonction nous permettra de comparer les performances de nos différentes approches sur des problèmes de taille choisie.\n",
    "\n",
    "Plus le paramètre alpha diminue et plus les dates limites sont rapprochées, et donc le problème difficile. \n",
    "\n",
    "*Par la suite nous règlerons souvent le paramètre alpha à 0.3 pour être sûrs d'avoir des hors délais*"
   ]
  },
  {
   "cell_type": "code",
   "execution_count": 45,
   "metadata": {},
   "outputs": [],
   "source": [
    "def genInstancies(n,alpha):\n",
    "    p=np.random.randint(1,15,n)\n",
    "    d=np.random.randint(3,int(alpha*n*15),n)\n",
    "    w=np.random.randint(1,5,n)\n",
    "    return(p,d,w)"
   ]
  },
  {
   "cell_type": "markdown",
   "metadata": {},
   "source": [
    "Un exemple aléatoire  : "
   ]
  },
  {
   "cell_type": "code",
   "execution_count": 46,
   "metadata": {},
   "outputs": [
    {
     "name": "stdout",
     "output_type": "stream",
     "text": [
      "Temps production :  [11  4  6  7 13  1  4  1]\n",
      "Date limite :       [30 13 30 30 34  4 20  5]\n",
      "Pénalités :         [2 3 1 2 1 4 2 3]\n"
     ]
    }
   ],
   "source": [
    "p,d,w = genInstancies(8,.3)\n",
    "print(\"Temps production : \", p)\n",
    "print(\"Date limite :      \", d)\n",
    "print(\"Pénalités :        \", w)"
   ]
  },
  {
   "cell_type": "markdown",
   "metadata": {},
   "source": [
    "### Choix de la méthode de calcul pour les bornes primales\n",
    "\n",
    "__Rappel__: plus une fonction de calcul de borne primale est performante, plus la valeur de la borne primale trouvée est petite."
   ]
  },
  {
   "cell_type": "markdown",
   "metadata": {},
   "source": [
    "* __Exemple du cours__ "
   ]
  },
  {
   "cell_type": "code",
   "execution_count": 13,
   "metadata": {},
   "outputs": [],
   "source": [
    "p = [12,8,15,9]\n",
    "d = [16,26,25,27]\n",
    "w = [4,5,3,5]"
   ]
  },
  {
   "cell_type": "markdown",
   "metadata": {},
   "source": [
    "Comparons les résultats des méthodes de calcul de bornes primales sur cet exemple (*EX7 TD branch and bound*)"
   ]
  },
  {
   "cell_type": "code",
   "execution_count": 49,
   "metadata": {},
   "outputs": [
    {
     "name": "stdout",
     "output_type": "stream",
     "text": [
      "Temps production :  [11  4  6  7 13  1  4  1]\n",
      "Date limite :       [30 13 30 30 34  4 20  5]\n",
      "Pénalités :         [2 3 1 2 1 4 2 3]\n",
      "Borne primale obtenue avec getPrimal_0 :  21\n",
      "Borne primale obtenue avec getPrimal_1 :  351\n",
      "Borne primale obtenue avec getPrimal_2 :  17\n"
     ]
    }
   ],
   "source": [
    "print(\"Temps production : \", p)\n",
    "print(\"Date limite :      \", d)\n",
    "print(\"Pénalités :        \", w)\n",
    "print(\"Borne primale obtenue avec getPrimal_0 : \",getPrimal_0(p,d,w)[0])\n",
    "print(\"Borne primale obtenue avec getPrimal_1 : \",getPrimal_1(p,d,w)[0])\n",
    "print(\"Borne primale obtenue avec getPrimal_2 : \",getPrimal_2(p,d,w)[0])"
   ]
  },
  {
   "cell_type": "markdown",
   "metadata": {},
   "source": [
    "__Conclusion :__ sur cet exemple, la méthode getPrimal_2 est bien plus performante que les méthodes 0 et 1."
   ]
  },
  {
   "cell_type": "markdown",
   "metadata": {},
   "source": [
    "* __Exemple aléatoire__"
   ]
  },
  {
   "cell_type": "code",
   "execution_count": 50,
   "metadata": {},
   "outputs": [],
   "source": [
    "p,d,w = genInstancies(8,.3)"
   ]
  },
  {
   "cell_type": "markdown",
   "metadata": {},
   "source": [
    "Comparons les résultats des méthodes de calcul de bornes primales sur cet exemple en utilisant la méthode get_dual_2 et ce pour les 3 méthodes d'exploration implémentées auparavant. Nous étudierons également l'influence de ces méthodes sur le nombre d'itérations de l'algorithme de Branch and Bound."
   ]
  },
  {
   "cell_type": "code",
   "execution_count": 51,
   "metadata": {},
   "outputs": [
    {
     "name": "stdout",
     "output_type": "stream",
     "text": [
      "Depth First\n",
      "getPrimal         0 | 1  | 2\n",
      "Primal Bound   : 245 | 245 | 209\n",
      "Solution       : 122 | 122 | 122\n",
      "nbIterations   : 2138 | 2138 | 2127\n",
      "Execution time : 0.14166522026062012 | 0.09795784950256348 | 0.07236266136169434\n",
      "\n",
      "\n",
      "Breadth First\n",
      "getPrimal         0 | 1  | 2\n",
      "Primal Bound   : 245 | 245 | 209\n",
      "Solution       : 122 | 122 | 122\n",
      "nbIterations   : 47412 | 47412 | 28755\n",
      "Execution time : 3.2460219860076904 | 3.412277936935425 | 2.055267095565796\n"
     ]
    }
   ],
   "source": [
    "#DFS\n",
    "start_0 = time.time()\n",
    "solution_0, order_0, nbIterations_0, branch_0, Tree = branch_and_bound(p,d,w, True, getPrimal_0, getDual_2,exploration_1)\n",
    "end_0 = time.time()\n",
    "start_1 = time.time()\n",
    "solution_1, order_1, nbIterations_1, branch_1, Tree = branch_and_bound(p,d,w, True, getPrimal_1, getDual_2,exploration_1)\n",
    "end_1 = time.time()\n",
    "start_2 = time.time()\n",
    "solution_2, order_2, nbIterations_2, branch_2, Tree = branch_and_bound(p,d,w, True, getPrimal_2, getDual_2,exploration_1)\n",
    "end_2 = time.time()\n",
    "\n",
    "print(\"Depth First\")\n",
    "print(\"getPrimal         0 | 1  | 2\")\n",
    "print(\"Primal Bound   : {} | {} | {}\".format(getPrimal_0(p,d,w)[0],getPrimal_1(p,d,w)[0],getPrimal_2(p,d,w)[0]))\n",
    "print(\"Solution       : {} | {} | {}\".format(solution_0,solution_1,solution_2))\n",
    "print(\"nbIterations   : {} | {} | {}\".format(nbIterations_0,nbIterations_1,nbIterations_2))\n",
    "print(\"Execution time : {} | {} | {}\".format(end_0-start_0,end_1-start_1,end_2-start_2))\n",
    "\n",
    "#BFS\n",
    "start_0 = time.time()\n",
    "solution_0, order_0, nbIterations_0, branch_0, Tree = branch_and_bound(p,d,w, True, getPrimal_0, getDual_2,exploration_0)\n",
    "end_0 = time.time()\n",
    "start_1 = time.time()\n",
    "solution_1, order_1, nbIterations_1, branch_1, Tree = branch_and_bound(p,d,w, True, getPrimal_1, getDual_2,exploration_0)\n",
    "end_1 = time.time()\n",
    "start_2 = time.time()\n",
    "solution_2, order_2, nbIterations_2, branch_2, Tree = branch_and_bound(p,d,w, True, getPrimal_2, getDual_2,exploration_0)\n",
    "end_2 = time.time()\n",
    "\n",
    "print(\"\\n\\nBreadth First\")\n",
    "print(\"getPrimal         0 | 1  | 2\")\n",
    "print(\"Primal Bound   : {} | {} | {}\".format(getPrimal_0(p,d,w)[0],getPrimal_1(p,d,w)[0],getPrimal_2(p,d,w)[0]))\n",
    "print(\"Solution       : {} | {} | {}\".format(solution_0,solution_1,solution_2))\n",
    "print(\"nbIterations   : {} | {} | {}\".format(nbIterations_0,nbIterations_1,nbIterations_2))\n",
    "print(\"Execution time : {} | {} | {}\".format(end_0-start_0,end_1-start_1,end_2-start_2))"
   ]
  },
  {
   "cell_type": "markdown",
   "metadata": {},
   "source": [
    "__Résultat :__ Encore une fois, la méthode $getPrimal\\_2$ semble être la plus efficace. \n",
    "\n",
    "Notons également que le choix de la méthode de calcul de borne primale est corrélé au nombre d'itérations de l'algorithme de branch and bound :\n",
    "\n",
    "* lorsque l'on utilise un parcours en largeur, le nombre d'itérations varie régulièrement du simple au centuple entre l'exécution démarrée avec $getPrimal\\_2$ et celle avec $getPrimal\\_1$. Une meilleure borne primale permet de rapidement élaguer des noeuds en haut de l'arbre et ainsi de réduire considérablement le temps d'exécution. \n",
    "\n",
    "* lorsque l'on utilise un parcours en profondeur, cette différence est moins marquée puisque l'algorithme va de lui même aller mettre à jour cette borne primale assez rapidement. On observe quand même régulièrement des nombres d'itérations allant du simple au double entre $getPrimal\\_2$ et $getPrimal\\_1$."
   ]
  },
  {
   "cell_type": "markdown",
   "metadata": {},
   "source": [
    "* __Valeurs de bornes primales sur un grand nombre d'instances aléatoires__\n",
    "\n",
    "Comme le titre l'indique, nous comparons ici les performances des méthodes de calcul de bornes primales pour de nombreuses instances aléatoires. L'idée est simple : générer 100 valeurs de bornes primales pour des problèmes de taille 4 à 12, puis calculer la valeur moyenne de la borne primale obtenue avec chaque méthode."
   ]
  },
  {
   "cell_type": "code",
   "execution_count": 52,
   "metadata": {},
   "outputs": [],
   "source": [
    "N = int(1e3) #Nombre d'échantillons\n",
    "n = 12 #Taille maximum du problème\n",
    "resultats_0 = [[] for i in range(4,n)]\n",
    "resultats_1 = [[] for i in range(4,n)]\n",
    "resultats_2 = [[] for i in range(4,n)]\n",
    "for _ in range(N):\n",
    "    for i in range(4,n):\n",
    "        p,d,w = genInstancies(i,.3)\n",
    "        resultats_0[i-4].append(getPrimal_0(p,d,w)[0])\n",
    "        resultats_1[i-4].append(getPrimal_1(p,d,w)[0])\n",
    "        resultats_2[i-4].append(getPrimal_2(p,d,w)[0])\n",
    "resultats_0 = [np.mean(res) for res in resultats_0]\n",
    "resultats_1 = [np.mean(res) for res in resultats_1]\n",
    "resultats_2 = [np.mean(res) for res in resultats_2]"
   ]
  },
  {
   "cell_type": "code",
   "execution_count": 53,
   "metadata": {},
   "outputs": [
    {
     "data": {
      "image/png": "[encoded data removed]",
      "text/plain": [
       "<Figure size 720x432 with 1 Axes>"
      ]
     },
     "metadata": {
      "needs_background": "light"
     },
     "output_type": "display_data"
    }
   ],
   "source": [
    "plt.figure(figsize=(10,6))\n",
    "X = list(range(4,n))\n",
    "plt.plot(X,resultats_0, label=\"getPrimal_0\")\n",
    "plt.plot(X,resultats_1, label=\"getPrimal_1\")\n",
    "plt.plot(X,resultats_2, label=\"getPrimal_2\")\n",
    "plt.legend()\n",
    "plt.xlabel(\"Taille du problème\")\n",
    "plt.ylabel(\"Borne Primale moyenne\")\n",
    "plt.title(\"Comparaisons des fonctions de calcul de bornes primales : N={}\".format(N))\n",
    "plt.show()"
   ]
  },
  {
   "cell_type": "markdown",
   "metadata": {},
   "source": [
    "__Conclusion :__ Comme nous avions pu le présager avec les tests précédents, la fonction $getPrimal\\_2$ donne de meilleurs résultats que $getPrimal\\_0$, qui sont toutes les deux bien meilleures que $getPrimal\\_1$. \n",
    "\n",
    "Par la suite, nous utiliserons ainsi majoritairement $getPrimal\\_2$ par défaut pour la comparaison des autres fonctions et les tests de performances. "
   ]
  },
  {
   "cell_type": "markdown",
   "metadata": {},
   "source": [
    "### Choix de la méthode d'exploration \n",
    "\n",
    "Nous utiliserons maintenant la méthode de calcul de bornes primales $getPrimal\\_2$ et comparerons les nombre d'itérations de l'algorithme pour Breadth First, Depth First et Best First  avec les méthodes getDual_0,getDual_1 et getDual_2.\n",
    "\n",
    "* __Exemple de cours__"
   ]
  },
  {
   "cell_type": "code",
   "execution_count": 54,
   "metadata": {},
   "outputs": [],
   "source": [
    "p = [12,8,15,9]\n",
    "d = [16,26,25,27]\n",
    "w = [4,5,3,5]"
   ]
  },
  {
   "cell_type": "code",
   "execution_count": 55,
   "metadata": {
    "scrolled": true
   },
   "outputs": [
    {
     "name": "stdout",
     "output_type": "stream",
     "text": [
      "Breadth First\n",
      "getDual         0 | 1  | 2\n",
      "Solution     : 67 | 67 | 67\n",
      "nbIterations : 23 | 59 | 8\n"
     ]
    }
   ],
   "source": [
    "solution_0, order_0, nbIterations_0, branch_0, Tree = branch_and_bound(p,d,w, False, getPrimal_2, getDual_0,exploration_0)\n",
    "solution_1, order_1, nbIterations_1, branch_1, Tree = branch_and_bound(p,d,w, False, getPrimal_2, getDual_1,exploration_0)\n",
    "solution_2, order_2, nbIterations_2, branch_2, Tree = branch_and_bound(p,d,w, True, getPrimal_2, getDual_2,exploration_0)\n",
    "print(\"Breadth First\")\n",
    "print(\"getDual         0 | 1  | 2\")\n",
    "print(\"Solution     : {} | {} | {}\".format(solution_0,solution_1,solution_2))\n",
    "print(\"nbIterations : {} | {} | {}\".format(nbIterations_0,nbIterations_1,nbIterations_2))"
   ]
  },
  {
   "cell_type": "code",
   "execution_count": 56,
   "metadata": {},
   "outputs": [
    {
     "name": "stdout",
     "output_type": "stream",
     "text": [
      "Depth First\n",
      "getDual         0 | 1  | 2\n",
      "Solution     : 67 | 67 | 67\n",
      "nbIterations : 23 | 59 | 8\n"
     ]
    }
   ],
   "source": [
    "solution_0, order_0, nbIterations_0, branch_0, Tree = branch_and_bound(p,d,w, False, getPrimal_2, getDual_0,exploration_1)\n",
    "solution_1, order_1, nbIterations_1, branch_1, Tree = branch_and_bound(p,d,w, False, getPrimal_2, getDual_1,exploration_1)\n",
    "solution_2, order_2, nbIterations_2, branch_2, Tree = branch_and_bound(p,d,w, True, getPrimal_2, getDual_2,exploration_1)\n",
    "print(\"Depth First\")\n",
    "print(\"getDual         0 | 1  | 2\")\n",
    "print(\"Solution     : {} | {} | {}\".format(solution_0,solution_1,solution_2))\n",
    "print(\"nbIterations : {} | {} | {}\".format(nbIterations_0,nbIterations_1,nbIterations_2))"
   ]
  },
  {
   "cell_type": "code",
   "execution_count": 57,
   "metadata": {},
   "outputs": [
    {
     "name": "stdout",
     "output_type": "stream",
     "text": [
      "Best First\n",
      "getDual         0 | 1  | 2\n",
      "Solution     : 67 | 67 | 67\n",
      "nbIterations : 23 | 59 | 8\n"
     ]
    }
   ],
   "source": [
    "solution_0, order_0, nbIterations_0, branch_0, Tree = branch_and_bound(p,d,w, False, getPrimal_2, getDual_0,exploration_2)\n",
    "solution_1, order_1, nbIterations_1, branch_1, Tree = branch_and_bound(p,d,w, False, getPrimal_2, getDual_1,exploration_2)\n",
    "solution_2, order_2, nbIterations_2, branch_2, Tree = branch_and_bound(p,d,w, True, getPrimal_2, getDual_2,exploration_2)\n",
    "print(\"Best First\")\n",
    "print(\"getDual         0 | 1  | 2\")\n",
    "print(\"Solution     : {} | {} | {}\".format(solution_0,solution_1,solution_2))\n",
    "print(\"nbIterations : {} | {} | {}\".format(nbIterations_0,nbIterations_1,nbIterations_2))"
   ]
  },
  {
   "cell_type": "markdown",
   "metadata": {},
   "source": [
    "__Conclusion :__ Nous ne remarquons pas de différences entre les méthodes d'exploration \"Breadth First / Depth First / Best First\". \n",
    "\n",
    "Notons aussi que sur cet exemple, la méthode de branchement \"inverse\" avec getDual_2 semble bien plus efficace que les deux autres méthodes."
   ]
  },
  {
   "cell_type": "markdown",
   "metadata": {},
   "source": [
    "* __Instances aléatoires__\n",
    "\n",
    "Après n'avoir trouvé aucune différence de nombre d'itérations entre les différentes méthodes sur l'exemple vu en TD, nous allons comparer les méthodes sur des instances aléatoires de taille raisonnable et ajoutant un nouvel élément de comparaison : le temps d'exécution."
   ]
  },
  {
   "cell_type": "code",
   "execution_count": 58,
   "metadata": {},
   "outputs": [
    {
     "name": "stdout",
     "output_type": "stream",
     "text": [
      "Depth First\n",
      "getDual           0 | 1  | 2\n",
      "Solution       : 170 | 170 | 170\n",
      "nbIterations   : 879 | 9048 | 210\n",
      "Execution time : 0.387814998626709\n",
      "\n",
      "Breadth First\n",
      "getDual           0 | 1  | 2 \n",
      "Solution       : 170 | 170 | 170\n",
      "nbIterations   : 1168 | 9592 | 382\n",
      "Execution time : 0.41092395782470703\n",
      "\n",
      "Best First : \n",
      "getDual           0 | 1  | 2 \n",
      "Solution       : 170 | 170 | 170\n",
      "nbIterations   : 906 | 8843 | 286\n",
      "Execution time : 35.396148920059204\n"
     ]
    }
   ],
   "source": [
    "p,d,w = genInstancies(7,.3)\n",
    "\n",
    "\n",
    "start = time.time()\n",
    "solution_0, order_0, nbIterations_0, branch_0, Tree = branch_and_bound(p,d,w, False, getPrimal_2, getDual_0,exploration_1)\n",
    "solution_1, order_1, nbIterations_1, branch_1, Tree = branch_and_bound(p,d,w, False, getPrimal_2, getDual_1,exploration_1)\n",
    "solution_2, order_2, nbIterations_2, branch_2, Tree = branch_and_bound(p,d,w, True, getPrimal_2, getDual_2,exploration_1)\n",
    "end = time.time()\n",
    "print(\"Depth First\")\n",
    "print(\"getDual           0 | 1  | 2\")\n",
    "print(\"Solution       : {} | {} | {}\".format(solution_0,solution_1,solution_2))\n",
    "print(\"nbIterations   : {} | {} | {}\".format(nbIterations_0,nbIterations_1,nbIterations_2))\n",
    "print(\"Execution time :\", end-start)\n",
    "\n",
    "\n",
    "start = time.time()\n",
    "solution_0, order_0, nbIterations_0, branch_0, Tree = branch_and_bound(p,d,w, False, getPrimal_2, getDual_0,exploration_0)\n",
    "solution_1, order_1, nbIterations_1, branch_1, Tree = branch_and_bound(p,d,w, False, getPrimal_2, getDual_1,exploration_0)\n",
    "solution_2, order_2, nbIterations_2, branch_2, Tree = branch_and_bound(p,d,w, True, getPrimal_2, getDual_2,exploration_0)\n",
    "end = time.time()\n",
    "print(\"\\nBreadth First\")\n",
    "print(\"getDual           0 | 1  | 2 \")\n",
    "print(\"Solution       : {} | {} | {}\".format(solution_0,solution_1,solution_2))\n",
    "print(\"nbIterations   : {} | {} | {}\".format(nbIterations_0,nbIterations_1,nbIterations_2))\n",
    "print(\"Execution time :\", end-start)\n",
    "\n",
    "start = time.time()\n",
    "solution_0, order_0, nbIterations_0, branch_0, Tree = branch_and_bound(p,d,w, False, getPrimal_2, getDual_0,exploration_2)\n",
    "solution_1, order_1, nbIterations_1, branch_1, Tree = branch_and_bound(p,d,w, False, getPrimal_2, getDual_1,exploration_2)\n",
    "solution_2, order_2, nbIterations_2, branch_2, Tree = branch_and_bound(p,d,w, True, getPrimal_2, getDual_2,exploration_2)\n",
    "end = time.time()\n",
    "print(\"\\nBest First : \")\n",
    "print(\"getDual           0 | 1  | 2 \")\n",
    "print(\"Solution       : {} | {} | {}\".format(solution_0,solution_1,solution_2))\n",
    "print(\"nbIterations   : {} | {} | {}\".format(nbIterations_0,nbIterations_1,nbIterations_2))\n",
    "print(\"Execution time :\", end-start)"
   ]
  },
  {
   "cell_type": "markdown",
   "metadata": {},
   "source": [
    "__Conclusion :__ Si on ne s'intéresse qu'au nombre d'itérations, les méthodes d'exploration \"Depth First\" et \"Best First\" semblement surpasser la méthode \"Breadth First\". En effet, on obtient quasiment systématiquement un nombre d'itérations plus important avec cette dernière et ce pour les raisons que nous avons évoquées auparavant: Le parcours en profondeur permet de plus rapidement mettre à jour la valeur de $z_P$ et donc d'élaguer plus rapidement des branches. \n",
    "\n",
    "Cependant, lorsque l'on s'intéresse aux temps d'éxécution, c'est bien la méthode \"Best First\" qui est la moins efficace. Elle s'exécute en un nombre d'itérations plus faible que la méthode \"Breadth First\" mais chaque itération est beaucoup plus coûteuse et son temps d'exécution est largement supérieur à celui des deux autres. Ainsi, cette méthode d'exploration sera à bannir sur de plus grandes instances."
   ]
  },
  {
   "cell_type": "markdown",
   "metadata": {},
   "source": [
    "* __Comparaison des méthodes sur un nombre d'instances aléatoires élevé__\n",
    "\n",
    "\n",
    "__1)Temps d'exécution__"
   ]
  },
  {
   "cell_type": "code",
   "execution_count": 59,
   "metadata": {},
   "outputs": [],
   "source": [
    "N = int(1e2) #Nombre d'échantillons\n",
    "n = 7 #Taille maximum du problème\n",
    "resultats_0 = [[] for i in range(3,n)]\n",
    "resultats_1 = [[] for i in range(3,n)]\n",
    "resultats_2 = [[] for i in range(3,n)]\n",
    "for _ in range(N):\n",
    "    for i in range(3,n):\n",
    "        p,d,w = genInstancies(i,.3)\n",
    "        \n",
    "        start_0 = time.time()\n",
    "        _, _, _, _, _ = branch_and_bound(p,d,w, True, getPrimal_2, getDual_2,exploration_0)\n",
    "        end_0 = time.time()\n",
    "        \n",
    "        start_1 = time.time()\n",
    "        _, _, _, _, _ = branch_and_bound(p,d,w, True, getPrimal_2, getDual_2,exploration_1)\n",
    "        end_1 = time.time()\n",
    "        \n",
    "        start_2 = time.time()\n",
    "        _, _, _, _, _ = branch_and_bound(p,d,w, True, getPrimal_2, getDual_2,exploration_2)\n",
    "        end_2 = time.time()\n",
    "        \n",
    "        resultats_0[i-3].append(end_0-start_0)\n",
    "        resultats_1[i-3].append(end_1-start_1)\n",
    "        resultats_2[i-3].append(end_2-start_2)\n",
    "        \n",
    "resultats_0 = [np.mean(res) for res in resultats_0]\n",
    "resultats_1 = [np.mean(res) for res in resultats_1]\n",
    "resultats_2 = [np.mean(res) for res in resultats_2]"
   ]
  },
  {
   "cell_type": "code",
   "execution_count": 60,
   "metadata": {},
   "outputs": [
    {
     "data": {
      "image/png": "[encoded data removed]",
      "text/plain": [
       "<Figure size 720x432 with 1 Axes>"
      ]
     },
     "metadata": {
      "needs_background": "light"
     },
     "output_type": "display_data"
    }
   ],
   "source": [
    "plt.figure(figsize=(10,6))\n",
    "X = list(range(3,n))\n",
    "plt.plot(X,resultats_2, label=\"exploration_2 - Best First\")\n",
    "plt.plot(X,resultats_0, label=\"exploration_0 - Breadth First\")\n",
    "plt.plot(X,resultats_1, label=\"exploration_1 - Depth First\")\n",
    "plt.legend()\n",
    "plt.xlabel(\"Taille du problème\")\n",
    "plt.xticks(X)\n",
    "plt.ylabel(\"Temps d'exécution moyen\")\n",
    "plt.title(\"Comparaisons des méthodes d'exploration : N={}\".format(N))\n",
    "plt.show()"
   ]
  },
  {
   "cell_type": "markdown",
   "metadata": {},
   "source": [
    "__2)Nombre d'itérations__"
   ]
  },
  {
   "cell_type": "code",
   "execution_count": 61,
   "metadata": {},
   "outputs": [],
   "source": [
    "N = int(1e2) #Nombre d'échantillons\n",
    "n = 7 #Taille maximum du problème\n",
    "resultats_0 = [[] for i in range(3,n)]\n",
    "resultats_1 = [[] for i in range(3,n)]\n",
    "resultats_2 = [[] for i in range(3,n)]\n",
    "for _ in range(N):\n",
    "    for i in range(3,n):\n",
    "        p,d,w = genInstancies(i,.3)\n",
    "        _, _, nbIterations_0, _, _ = branch_and_bound(p,d,w, True, getPrimal_2, getDual_2,exploration_0)\n",
    "        _, _, nbIterations_1, _, _ = branch_and_bound(p,d,w, True, getPrimal_2, getDual_2,exploration_1)\n",
    "        _, _, nbIterations_2, _, _ = branch_and_bound(p,d,w, True, getPrimal_2, getDual_2,exploration_2)\n",
    "        \n",
    "        resultats_0[i-3].append(nbIterations_0)\n",
    "        resultats_1[i-3].append(nbIterations_1)\n",
    "        resultats_2[i-3].append(nbIterations_2)\n",
    "        \n",
    "resultats_0 = [np.mean(res) for res in resultats_0]\n",
    "resultats_1 = [np.mean(res) for res in resultats_1]\n",
    "resultats_2 = [np.mean(res) for res in resultats_2]"
   ]
  },
  {
   "cell_type": "code",
   "execution_count": 62,
   "metadata": {},
   "outputs": [
    {
     "data": {
      "image/png": "[encoded data removed]",
      "text/plain": [
       "<Figure size 720x432 with 1 Axes>"
      ]
     },
     "metadata": {
      "needs_background": "light"
     },
     "output_type": "display_data"
    }
   ],
   "source": [
    "plt.figure(figsize=(10,6))\n",
    "X = list(range(3,n))\n",
    "plt.plot(X,resultats_2, label=\"exploration_2 - Best First\")\n",
    "plt.plot(X,resultats_0, label=\"exploration_0 - Breadth First\")\n",
    "plt.plot(X,resultats_1, label=\"exploration_1 - Depth First\")\n",
    "plt.legend()\n",
    "plt.xlabel(\"Taille du problème\")\n",
    "plt.ylabel(\"Nombre d'itérations moyen\")\n",
    "plt.xticks(X)\n",
    "plt.title(\"Comparaisons des méthodes d'exploration : N={}\".format(N))\n",
    "plt.show()"
   ]
  },
  {
   "cell_type": "markdown",
   "metadata": {},
   "source": [
    "__Conclusion :__ Que ce soit en termes de temps d'exécution, ou en termes des nombre d'itérations, la méthode d'exploration la plus performante semble être la méthode _Depth First_. La méthode _Best First_ est assez similaire en nombre d'itérations mais chaque itération étant beaucoup plus longue, son temps d'exécution est largement supérieur. Finalement, la méthode _Breadth First_ est toujours moins bonne que la méthode _Depth First_, bien que cette différence soit moins flagrante en termes de temps d'exécution.\n",
    "\n",
    "Comme évoqué précédemment, la méthode _Depth First_ permet de plus rapidement mettre à jour la valeur de la borne primale du problème et ainsi d'élaguer plus rapidement les noeuds, ce qui a pour conséquence de réduire le nombre d'itérations de l'algorithme et ainsi son temps d'exécution.\n",
    "\n",
    "__Nous utiliserons donc la méthode \"Depth First\" pour la suite.__"
   ]
  },
  {
   "cell_type": "markdown",
   "metadata": {},
   "source": [
    "### Choix de la méthode de calcul de bornes duales\n",
    "\n",
    "Maintenant que nous savons quelles méthodes de caclul de bornes primales et d'exploration utiliser, nous allons pouvoir nous attaquer au coeur du problème et comparer les performances de nos différentes approches du problème ou règles de branchement avec le calcul des bornes duales.\n",
    "\n",
    "Pour rappel, les méthodes $getDual\\_0$ et $getDual\\_1$ correspondent à un ajout des tâches par le début et la fonction $getDual\\_2$ correspond à un ajout des tâches en commençant par la fin.\n",
    "\n",
    "* __getDual_0__ : Si on a fixé l'ordre de $k$ pièces on calcule les pénalités de retard de ces $k$ pièces et on ajoute les pénalités des autres pièces en supposant qu'elles sont en $(k+1)$ème position. (Dans le cas où les $k$ pièces sont positionnées aux positions $[1,2,\\ldots,k-1,k]$).\n",
    "\n",
    "\n",
    "* __getDual_1__ : Si on a fixé l'ordre de $k$ pièces on calcule les pénalités de retard de ces $k$ pièces. (Dans le cas où les $k$ pièces sont positionnées aux positions $[1,2,\\ldots,k-1,k]$).\n",
    "\n",
    "\n",
    "* __getDual_2__ : Si on a fixé l'ordre de $k$ pièces on calcule les pénalités de retard de ces $k$ pièces. (Dans le cas où les $k$ pièces sont positionnées aux positions $[n-k+1, n-k+2,\\ldots, n-1,n]$)."
   ]
  },
  {
   "cell_type": "markdown",
   "metadata": {},
   "source": [
    "* __Comparaison des méthodes sur un grand nombre d'instances aléatoires__"
   ]
  },
  {
   "cell_type": "markdown",
   "metadata": {},
   "source": [
    "__1) Temps d'exécution__"
   ]
  },
  {
   "cell_type": "code",
   "execution_count": 63,
   "metadata": {},
   "outputs": [],
   "source": [
    "N = int(1e2) #Nombre d'échantillons\n",
    "n = 7 #Taille maximum du problème\n",
    "resultats_0 = [[] for i in range(3,n)]\n",
    "resultats_1 = [[] for i in range(3,n)]\n",
    "resultats_2 = [[] for i in range(3,n)]\n",
    "resultats_3 = [[] for i in range(3,n)]\n",
    "for _ in range(N):\n",
    "    for i in range(3,n):\n",
    "        p,d,w = genInstancies(i,.3)\n",
    "        \n",
    "        start_0 = time.time()\n",
    "        _, _, _, _, _ = branch_and_bound(p,d,w, False, getPrimal_2, getDual_0,exploration_1)\n",
    "        end_0 = time.time()\n",
    "        \n",
    "        start_1 = time.time()\n",
    "        _, _, _, _, _ = branch_and_bound(p,d,w, False, getPrimal_2, getDual_1,exploration_1)\n",
    "        end_1 = time.time()\n",
    "        \n",
    "        start_2 = time.time()\n",
    "        _, _, _, _, _ = branch_and_bound(p,d,w, True, getPrimal_2, getDual_2,exploration_1)\n",
    "        end_2 = time.time()\n",
    "        \n",
    "        resultats_0[i-3].append(end_0-start_0)\n",
    "        resultats_1[i-3].append(end_1-start_1)\n",
    "        resultats_2[i-3].append(end_2-start_2)\n",
    "        \n",
    "resultats_0 = [np.mean(res) for res in resultats_0]\n",
    "resultats_1 = [np.mean(res) for res in resultats_1]\n",
    "resultats_2 = [np.mean(res) for res in resultats_2]"
   ]
  },
  {
   "cell_type": "code",
   "execution_count": 64,
   "metadata": {},
   "outputs": [
    {
     "data": {
      "image/png": "[encoded data removed]",
      "text/plain": [
       "<Figure size 720x432 with 1 Axes>"
      ]
     },
     "metadata": {
      "needs_background": "light"
     },
     "output_type": "display_data"
    }
   ],
   "source": [
    "plt.figure(figsize=(10,6))\n",
    "X = list(range(3,n))\n",
    "plt.plot(X,resultats_0, label=\"getDual_0\")\n",
    "plt.plot(X,resultats_1, label=\"getDual_1\")\n",
    "plt.plot(X,resultats_2, label=\"getDual_2\")\n",
    "plt.legend()\n",
    "plt.xlabel(\"Taille du problème\")\n",
    "plt.xticks(X)\n",
    "plt.ylabel(\"Temps d'exécution moyen\")\n",
    "plt.title(\"Comparaisons des méthodes d'exploration : N={}\".format(N))\n",
    "plt.show()"
   ]
  },
  {
   "cell_type": "markdown",
   "metadata": {},
   "source": [
    "__2) Nombre d'itérations__"
   ]
  },
  {
   "cell_type": "code",
   "execution_count": 65,
   "metadata": {},
   "outputs": [],
   "source": [
    "N = int(1e2) #Nombre d'échantillons\n",
    "n = 7 #Taille maximum du problème\n",
    "resultats_0 = [[] for i in range(3,n)]\n",
    "resultats_1 = [[] for i in range(3,n)]\n",
    "resultats_2 = [[] for i in range(3,n)]\n",
    "resultats_3 = [[] for i in range(3,n)]\n",
    "for _ in range(N):\n",
    "    for i in range(3,n):\n",
    "        p,d,w = genInstancies(i,.3)\n",
    "        _, _, nbIterations_0, _, _ = branch_and_bound(p,d,w, False, getPrimal_2, getDual_0,exploration_1)\n",
    "        _, _, nbIterations_1, _, _ = branch_and_bound(p,d,w, False, getPrimal_2, getDual_1,exploration_1)\n",
    "        _, _, nbIterations_2, _, _ = branch_and_bound(p,d,w, True, getPrimal_2, getDual_2,exploration_1)\n",
    "        \n",
    "        resultats_0[i-3].append(nbIterations_0)\n",
    "        resultats_1[i-3].append(nbIterations_1)\n",
    "        resultats_2[i-3].append(nbIterations_2)\n",
    "        \n",
    "resultats_0 = [np.mean(res) for res in resultats_0]\n",
    "resultats_1 = [np.mean(res) for res in resultats_1]\n",
    "resultats_2 = [np.mean(res) for res in resultats_2]"
   ]
  },
  {
   "cell_type": "code",
   "execution_count": 66,
   "metadata": {},
   "outputs": [
    {
     "data": {
      "image/png": "[encoded data removed]",
      "text/plain": [
       "<Figure size 720x432 with 1 Axes>"
      ]
     },
     "metadata": {
      "needs_background": "light"
     },
     "output_type": "display_data"
    }
   ],
   "source": [
    "plt.figure(figsize=(10,6))\n",
    "X = list(range(3,n))\n",
    "plt.plot(X,resultats_0, label=\"getDual_0\")\n",
    "plt.plot(X,resultats_1, label=\"getDual_1\")\n",
    "plt.plot(X,resultats_2, label=\"getDual_2\")\n",
    "plt.legend()\n",
    "plt.xlabel(\"Taille du problème\")\n",
    "plt.ylabel(\"Nombre d'itérations moyen\")\n",
    "plt.xticks(X)\n",
    "plt.title(\"Comparaisons des méthodes d'exploration : N={}\".format(N))\n",
    "plt.show()"
   ]
  },
  {
   "cell_type": "markdown",
   "metadata": {},
   "source": [
    "__Résultats :__ Comme précédemment, on observe que la règle de branchement qui consiste à ajouter les tâches en partant de la fin est bien plus efficace que celle qui les ajoute au début. \n",
    "\n",
    "\n",
    "Sans grandes surprises, la méthode $getDual\\_0$ est plus performante que la méthode $getDual\\_1$. En effet la première donnera toujours des bornes duales supérieures à la deuxième, étant donné qu'elle prend en compte les pénalités de retard des pièces déjà placées mais aussi de celles qui ne sont pas encore placées mais qui auront forcément du retard.\n",
    "\n",
    "\n",
    "L'algorithme de Branch and Bound est plus performant avec la méthode $getDual\\_2$ qu'avec la méthode $getDual\\_0$. C'est donc cette fonction que nous utiliserons pour comparer les performances du _Branch and Bound_ sur des problèmes de taille variée."
   ]
  },
  {
   "cell_type": "markdown",
   "metadata": {},
   "source": [
    "## Bilan \n",
    "\n",
    "Afin d'optimiser les performance de l'algorithme de Branch and Bound, nous utiliserons les méthodes : \n",
    "* __getPrimal_2()__\n",
    "* __getDual_2()__\n",
    "* exploration_1"
   ]
  },
  {
   "cell_type": "markdown",
   "metadata": {},
   "source": [
    "#### Test de notre algorithme de _Branch and Bound__ sur des problèmes de tailles différentes : \n",
    "\n",
    "Maintenant que nous avons déterminé tous les meilleurs paramètres de notre algorithme _Branch and Bound_, nous allons tester sa performance sur des problèmes de taille croissante."
   ]
  },
  {
   "cell_type": "code",
   "execution_count": 44,
   "metadata": {},
   "outputs": [
    {
     "data": {
      "image/png": "[encoded data removed]",
      "text/plain": [
       "<Figure size 720x432 with 1 Axes>"
      ]
     },
     "metadata": {
      "needs_background": "light"
     },
     "output_type": "display_data"
    }
   ],
   "source": [
    "N = 1 #Nombre d'échantillons\n",
    "n = 16 #Taille maximum du problème\n",
    "alpha = 0.5\n",
    "\n",
    "resultats_3 = [[] for i in range(3,n)]\n",
    "for _ in range(N):\n",
    "    for i in range(3,n):\n",
    "        p,d,w = genInstancies(i,alpha)\n",
    "                \n",
    "        start = time.time()\n",
    "        _, _, _, _, _ = branch_and_bound(p,d,w, True, getPrimal_2, getDual_2,exploration_1)\n",
    "        end = time.time()\n",
    "        \n",
    "        resultats_3[i-3].append(end-start)\n",
    "        \n",
    "resultats_3 = [np.mean(res) for res in resultats_3]\n",
    "resultats_3 = np.array(resultats_3)\n",
    "\n",
    "\n",
    "plt.figure(figsize=(10,6))\n",
    "X = list(range(3,n))\n",
    "plt.plot(X,resultats_3)\n",
    "plt.xlabel(\"Taille du problème\")\n",
    "plt.xticks(X)\n",
    "plt.ylabel(\"Temps d'exécution moyen\")\n",
    "plt.title(\"Temps d'exécution en fonction de la taille du problème - alpha:{} : N={}\".format(alpha,N))\n",
    "plt.show()"
   ]
  },
  {
   "cell_type": "markdown",
   "metadata": {},
   "source": [
    "__Résultats :__ Bien que performante par rapport aux autres approches, notre fonction _Brand and Bound_ utilisée avec la méthode 2 (remplissage par la fin), $getDual\\_3$ (Notre meilleure méthode de calcul de bornes duales) et $getPrimal\\_2$ (Notre meilleure méthode de calcul de bornes primales) se retrouve rapidement \"bloquée\" sur des problèmes de taille importante. Pour des problèmes avec 15 pièces à usiner, il n'est pas rare de dépasser la minute de temps d'exécution. Notre problème d'ordonnancement est un problème NP-Difficile et il n'est pas étonnant de le voir exploser en temps aussi rapidement."
   ]
  },
  {
   "cell_type": "markdown",
   "metadata": {},
   "source": [
    "## Visualisation de l'arbre de branchement.\n",
    "\n",
    "L'idée est ici d'implémenter une fonction de visualisation de l'arbre de branchement. \n",
    "\n",
    "### Redéfinition de quelques éléments de structure\n",
    "\n",
    "Comme évoqué aupravant, nous changeons les index des noeuds. Nous sommes conscients que stocker des entiers est moins couteux en temps de calcul que stocker des grandes chaines de caractères et c'est pour cette raison que nous avons fait une nouvelle version de la fonction branch and bound ci dessous. \n",
    "\n",
    "Afin de mieux comprendre notre facon d'indexer les noeuds, nous présentons un exemple succinct. \n",
    "\n",
    "![Arbre de branchement](EX1.png)\n",
    "\n",
    "* Le noeud racine sera __P__\n",
    "* Le noeud __P(1)__ signifie que la solution liée à ce noeud place l'usinage de la pièce 1 en dernier.\n",
    "* Le noeud __P(2,1)__ signifie que la solution liée à ce noeud place l'usinage de la pièce 1 en dernier, puis celui de la pièce 2 en avant dernier.\n",
    "\n",
    "Pour des exmples de taille plus conséquente (+ de taches), par exemple 5, certains des noeuds seront instanciés par __P(*4 chiffres séparés par des virgules*)__."
   ]
  },
  {
   "cell_type": "markdown",
   "metadata": {},
   "source": [
    "### Branch and bound redéfini\n",
    "\n",
    "Nous utilisons ces nouvelles indexations pour mettre à jour la fonction branch and bound. \n",
    "\n",
    "Notons aussi que nous ajoutons quelques élements de code permettant de trouver la branche de l'arbre qui aura donné lieu à la meilleure solution. Pour cela, nous localisons le meilleur noeud, i.e le noeud qui :\n",
    "* est tel que la borne duale du noeud est inférieure ou égale à la borne primale du problème                **(1)**\n",
    "* est tel que la borne duale du noeud est plus grande que n'importe quel borne duale des noeuds vérifiant (1).\n",
    "\n",
    "Nous remontons ensuite (en utilisant les parents) afin d'obtenir la branche de l'arbre donnant lieu à la meilleure solution. Cela nous sera utile lors de la visualisation de l'arbre de branchement.\n",
    "\n",
    "Les éléments retournés par la fonction sont également ajustés. Nous ajoutons le retour de : \n",
    "* __branch__ : la branche donnant lieu à la solution optimale du problème\n",
    "* __Tree__: l'arbre correspondant au problème"
   ]
  },
  {
   "cell_type": "code",
   "execution_count": null,
   "metadata": {},
   "outputs": [],
   "source": [
    "def arborescence_display(node,Tree):\n",
    "    branch = []\n",
    "    while node.parent != None:\n",
    "        branch.append(node.idx)\n",
    "        node = node.parent\n",
    "    branch.append(node.idx)\n",
    "    \n",
    "    return branch"
   ]
  },
  {
   "cell_type": "code",
   "execution_count": null,
   "metadata": {},
   "outputs": [],
   "source": [
    "def branch_and_bound_display(p,d,w,byLast,getPrimal,getDual,exploration):\n",
    "    \n",
    "    Tasks = list(range(len(p)))\n",
    "    Tree = [] # list of all nodes created (a list of Node objects)\n",
    "    Queue = [] # list of nodes to process (a list of integers with the index of nodes to process in the Tree)\n",
    "    UB = 10000000 # set the upper bound to a sufficiently large number\n",
    "    LB = 0 # set the lower bound to a sufficiently small number \n",
    "    \n",
    "    UB,currentOrder = getPrimal(p,d,w)\n",
    "\n",
    "    bestNode = Node(\"\",-1, [], 0 ,[])\n",
    "    \n",
    "    root = Node(\"P\",None, [], 0, []) # at the root node no variables are fixed \n",
    "    Tree.append(root) # start the tree with the root node\n",
    "    Queue.append(0) # start the list of nodes to process with the root node\n",
    "    \n",
    "    #continue processing nodes until the queue is empty\n",
    "    \n",
    "    nbIterations = 0\n",
    "    \n",
    "    while Queue!=[]:\n",
    "        \n",
    "        # process the first node in the queue\n",
    "\n",
    "        currentIndex = exploration(Queue,None,None)\n",
    "        currentNode = Tree[currentIndex]\n",
    "        nbIterations +=1\n",
    "        \n",
    "        if currentNode.lb < UB:\n",
    "            \n",
    "            if len(currentNode.visited) == len(p):\n",
    "                order = currentNode.visited.copy()\n",
    "                if byLast:\n",
    "                    order.reverse()\n",
    "                solutionCost = computeCost(p,d,w,order)\n",
    "                if solutionCost <= UB:\n",
    "                    UB = solutionCost\n",
    "                    currentOrder = order\n",
    "                    bestNode = currentNode\n",
    "            else:\n",
    "                for nextTask in (set(Tasks)-set(currentNode.visited)):\n",
    "                    nextVisited = currentNode.visited.copy()\n",
    "                    nextVisited.append(nextTask)\n",
    "                    nextLb = getDual(p,d,w, nextVisited)\n",
    "\n",
    "                    newNode = Node(\"\",currentNode, [], nextLb,nextVisited)\n",
    "                    \n",
    "                    if currentNode.visited!=[]:\n",
    "                        newNode.idx=\"P(\"\n",
    "                        for i in range(len(nextVisited)-1):\n",
    "                            newNode.idx+=str(nextVisited[i])+\",\"\n",
    "                        newNode.idx+=str(nextVisited[len(nextVisited)-1])+\")\"\n",
    "                    else:\n",
    "                        newNode.idx=\"P(\"+str(nextTask)+\")\"\n",
    "                        \n",
    "                    Tree.append(newNode)\n",
    "                    Queue.append(len(Tree)-1)\n",
    "                    currentNode.children.append(newNode)\n",
    "            \n",
    "        # When the processing of the node is completed remove the node from the queue     \n",
    "        Queue.remove(currentIndex)\n",
    "\n",
    "    # return the  solution\n",
    "    \n",
    "    if 2*(UB-bestNode.lb)<=0.0001:\n",
    "        branch = arborescence_display(bestNode,Tree)\n",
    "    else:\n",
    "        bestLB = -math.inf\n",
    "        for node in Tree:\n",
    "            if node.lb > bestLB and node.lb <=UB:\n",
    "                bestLB = node.lb\n",
    "                bestNode=node\n",
    "        branch = arborescence_display(bestNode,Tree)\n",
    "\n",
    "    return UB, currentOrder, nbIterations, branch, Tree"
   ]
  },
  {
   "cell_type": "markdown",
   "metadata": {},
   "source": [
    "### Fonction d'affichage de l'arbre\n",
    "\n",
    "Nous implémentons à présent une fonction d'affichage de l'arbre. Cette méthode utilise différents élements de packages spécifiques (importés au préalable, et non utilisés jusqu'alors). Nous utilisons :\n",
    "* __networkx__ afin de crééer une structure d'arbre facile d'utilisation et facile à représenter.\n",
    "* __pydot__ qui permettra de visualiser simplement l'abre de branchement.\n",
    "\n",
    "La méthode consiste principalement à reconstitué l'arbre de branchement à partir de la liste de Noeud __Tree__. De l'afficher de manière adequat, et de mettre en évidence la branche donnant lieu à la solution optimale."
   ]
  },
  {
   "cell_type": "code",
   "execution_count": null,
   "metadata": {},
   "outputs": [],
   "source": [
    "def displayTree(Tree,currentOrder,branch,byLast):\n",
    "    \n",
    "    index=['P']\n",
    "    parent=['P']\n",
    "    for node in Tree:\n",
    "        if(node.idx!=\"P\"):\n",
    "            index.append(node.idx)\n",
    "            parent.append((node.parent).idx)\n",
    "    graphe=dict(zip(index,parent))\n",
    "    \n",
    "    graph=nx.Graph()\n",
    "    graph.add_nodes_from(index)\n",
    "    for idx in graphe.keys():\n",
    "        graph.add_edge(idx,graphe[idx])\n",
    "        \n",
    "    if(byLast==True):\n",
    "        branch.reverse()\n",
    "\n",
    "    bestPath= set(zip(branch[:-1], branch[1:]))\n",
    "    edge_colors=dict()\n",
    "    for edge in graph.edges():\n",
    "        if edge in bestPath:\n",
    "            edge_colors[edge]='red'\n",
    "        else:\n",
    "            edge_colors[edge]='lightblue'\n",
    "            \n",
    "    node_colors=dict()\n",
    "    for node in graph.nodes():\n",
    "        if node in branch:\n",
    "            node_colors[node]='red'\n",
    "        else:\n",
    "            node_colors[node]=\"lightblue\"\n",
    "    \n",
    "    plt.figure(figsize=(12,8))\n",
    "    pos = graphviz_layout(graph, prog=\"dot\")\n",
    "    nx.draw(graph, pos,with_labels=True,node_size=1200,node_color=node_colors.values(),edge_color=edge_colors.values())\n",
    "    plt.show()"
   ]
  },
  {
   "cell_type": "markdown",
   "metadata": {},
   "source": [
    "### Test de la fonction d'affichage\n",
    "\n",
    "Nous effectuons le test de notre fonction d'affichage. Pour cela, nous prenons différents problèmes. Dans un premier temps, nous utiliserons l'exemple de TD (*EX7 TD Branch and bound*). Nous comparons ensuite l'abre de branchement affiché à celui obtenu lors de la résolution du branch and bound en TD."
   ]
  },
  {
   "cell_type": "code",
   "execution_count": null,
   "metadata": {},
   "outputs": [],
   "source": [
    "#Textbook Example\n",
    "pj = [12,8,15,9]\n",
    "dj = [16,26,25,27]\n",
    "wj = [4,5,3,5]"
   ]
  },
  {
   "cell_type": "code",
   "execution_count": null,
   "metadata": {},
   "outputs": [],
   "source": [
    "solution,order,nbIterations,branch,Tree=branch_and_bound_display(pj,dj,wj, True, getPrimal_2, getDual_2,exploration_0)\n",
    "displayTree(Tree,order,branch,True)"
   ]
  },
  {
   "cell_type": "markdown",
   "metadata": {},
   "source": [
    "__Commentaires :__ nous voyons ici les noeuds ayant donné lieu à des élagages et la branche ayant donné lieu à la solution optimale. Les noeuds P(0), P(1), et P(3) on donné lieu à des élagages. Les noeuds P(2,0) et P(2,1) également. Le noeud P(2,3) a quant a lui permis de trouver la solution optimale puisque sa borne duale vaut la borne primale du problème (67)."
   ]
  },
  {
   "cell_type": "markdown",
   "metadata": {},
   "source": [
    "*Notons que cette visualisation n'a de sens que si le nombre d'objets à usiner n'est pas trop élevé. Un nombre élevé d'objets donnera souvent lieu à un nombre d'itérations élevées et donc l'arbre de branchement sera gigantesque (et illisible).*\n",
    "\n",
    "On teste de nouveau la visualisation sur des instances générées aléatoirement."
   ]
  },
  {
   "cell_type": "code",
   "execution_count": null,
   "metadata": {},
   "outputs": [],
   "source": [
    "p,d,w = genInstancies(4,.5)\n",
    "print(\"p : \", p)\n",
    "print(\"d : \", d)\n",
    "print(\"w : \", w)\n",
    "solution, order, nbIterations,branch,Tree = branch_and_bound_display(p,d,w, True, getPrimal_2, getDual_2,exploration_1)\n",
    "print(\"Final Results: {} Iterations\".format(nbIterations))\n",
    "print(\"Order : {} | Cost : {}\".format(order,computeCost(p,d,w,order)))\n",
    "print(branch)\n",
    "displayTree(Tree,order,branch,True)"
   ]
  },
  {
   "cell_type": "code",
   "execution_count": null,
   "metadata": {},
   "outputs": [],
   "source": [
    "p,d,w = genInstancies(6,.5)\n",
    "print(\"p : \", p)\n",
    "print(\"d : \", d)\n",
    "print(\"w : \", w)\n",
    "solution, order, nbIterations,branch,Tree = branch_and_bound_display(p,d,w, True, getPrimal_2, getDual_2,exploration_1)\n",
    "print(\"Final Results: {} Iterations\".format(nbIterations))\n",
    "print(\"Order : {} | Cost : {}\".format(order,computeCost(p,d,w,order)))\n",
    "print(branch)\n",
    "displayTree(Tree,order,branch,True)"
   ]
  },
  {
   "cell_type": "code",
   "execution_count": null,
   "metadata": {},
   "outputs": [],
   "source": [
    "p,d,w = genInstancies(8,.5)\n",
    "print(\"p : \", p)\n",
    "print(\"d : \", d)\n",
    "print(\"w : \", w)\n",
    "solution, order, nbIterations,branch,Tree = branch_and_bound_display(p,d,w, True, getPrimal_2, getDual_2,exploration_1)\n",
    "print(\"Final Results: {} Iterations\".format(nbIterations))\n",
    "print(\"Order : {} | Cost : {}\".format(order,computeCost(p,d,w,order)))\n",
    "#print(branch)\n",
    "displayTree(Tree,order,branch,True)"
   ]
  },
  {
   "cell_type": "markdown",
   "metadata": {},
   "source": [
    "## PLNE\n",
    "\n"
   ]
  },
  {
   "cell_type": "code",
   "execution_count": null,
   "metadata": {},
   "outputs": [],
   "source": [
    "from pulp import *"
   ]
  },
  {
   "cell_type": "code",
   "execution_count": null,
   "metadata": {},
   "outputs": [],
   "source": [
    "def plne_Ordonnancement(p,d,w):\n",
    "    \n",
    "    Tasks=range(len(p)) #Liste des taches \n",
    "    \n",
    "    # Declaration du modèle\n",
    "    model = LpProblem(\"Ordonnancement\", LpMinimize)\n",
    "    \n",
    "    # Variables \n",
    "    x = LpVariable.dicts(\"x\", ((i, j) for i in Tasks for j in Tasks),0,1,LpInteger) #x_{i,j}=1 si i est usinée avant j\n",
    "    f= LpVariable.dicts(\"f\",Tasks,0,None,LpInteger) # f_j = date de fin d'usinage de la pièce j \n",
    "    r= LpVariable.dicts(\"r\",Tasks,0,None,LpInteger) #r_j = retard lié à la pièce j (forcément positif)\n",
    "    \n",
    "    # Contraintes :\n",
    "    for j in Tasks:\n",
    "        model+= f[j]==p[j]+lpSum(p[i]*x[i,j] for i in Tasks)-p[j]*x[j,j]\n",
    "        model+= r[j]>=f[j]-d[j]  #retard >= fin d'usinage - date de rendu souhaite\n",
    "        \n",
    "    #Contraintes d'ordre    \n",
    "    for i in Tasks : \n",
    "        for j in range(i) : \n",
    "            model+= x[i,j]+x[j,i]==1 #Si i avant j alors j est après i \n",
    "            for k in Tasks:\n",
    "                model+= x[i,k]>= x[i,j]+x[j,k]-1 #Transitivité\n",
    "    \n",
    "    \n",
    "    # Objectif : \n",
    "    model+=lpSum(w[i]*r[i] for i in Tasks) #Minimisation des pénalités de retard\n",
    "    \n",
    "    #Resolution du PLNE : \n",
    "    starttime=time.time() #Pour avoir le temps d'execution\n",
    "    model.solve(PULP_CBC_CMD())\n",
    "    solveTime=time.time()-starttime\n",
    "    \n",
    "    #Affichage des éléments de résolution\n",
    "    f_val=[]\n",
    "    for i in range(0,len(Tasks)):\n",
    "        f_val.append(model.variables()[i].varValue)\n",
    "    order=np.argsort(f_val)\n",
    "    \n",
    "        \n",
    "    #print(\"Temps de résolution = \", solveTime)\n",
    "    print(\"Statut de la solution = \", LpStatus[model.status])\n",
    "    #print(\"Valeur optimale = \", value(model.objective))\n",
    "    #print(\"Ordre des taches =\",order)\n",
    "    return(solveTime,value(model.objective),order)"
   ]
  },
  {
   "cell_type": "code",
   "execution_count": null,
   "metadata": {},
   "outputs": [],
   "source": [
    "p,d,w = genInstancies(4,.5)\n",
    "print(\"p : \", p)\n",
    "print(\"d : \", d)\n",
    "print(\"w : \", w)\n",
    "start= time.time()\n",
    "solBB, orderBB, nbIterations, branch, Tree=branch_and_bound(p,d,w, True, getPrimal_2, getDual_2,exploration_1)\n",
    "solveTimeBB=time.time()-start\n",
    "solveTimePLNE,solPLNE,orderPLNE=plne_Ordonnancement(p,d,w)\n",
    "print(\"Execution time : B&B : {} | PLNE : {}\".format(solveTimeBB,solveTimePLNE))\n",
    "print(\"Cout de la solution : B&B : {} | PLNE : {}\".format(solBB,solPLNE))\n",
    "print(\"Ordre des taches : B&B : {} | PLNE : {}\".format(orderBB,orderPLNE))"
   ]
  },
  {
   "cell_type": "markdown",
   "metadata": {},
   "source": [
    "# Pour aller plus loin"
   ]
  },
  {
   "cell_type": "markdown",
   "metadata": {},
   "source": [
    "Nous allons ci-dessous tenter de résoudre quelques problèmes annexes à notre problème de base."
   ]
  },
  {
   "cell_type": "code",
   "execution_count": null,
   "metadata": {},
   "outputs": [],
   "source": []
  }
 ],
 "metadata": {
  "kernelspec": {
   "display_name": "Python 3",
   "language": "python",
   "name": "python3"
  },
  "language_info": {
   "codemirror_mode": {
    "name": "ipython",
    "version": 3
   },
   "file_extension": ".py",
   "mimetype": "text/x-python",
   "name": "python",
   "nbconvert_exporter": "python",
   "pygments_lexer": "ipython3",
   "version": "3.7.4"
  }
 },
 "nbformat": 4,
 "nbformat_minor": 4
}

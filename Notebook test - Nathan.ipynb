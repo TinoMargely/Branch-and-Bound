{
 "cells": [
  {
   "cell_type": "markdown",
   "metadata": {},
   "source": [
    "# Bienvenue sur le meilleur notebook"
   ]
  },
  {
   "cell_type": "code",
   "execution_count": 1,
   "metadata": {},
   "outputs": [],
   "source": [
    "import numpy as np\n",
    "from matplotlib import pyplot as plt"
   ]
  },
  {
   "cell_type": "markdown",
   "metadata": {},
   "source": [
    "# Calculs de bornes primales"
   ]
  },
  {
   "cell_type": "code",
   "execution_count": 39,
   "metadata": {},
   "outputs": [],
   "source": [
    "def computeCost(p,d,w,order):\n",
    "    t=0\n",
    "    cost=0\n",
    "    for idx in order:\n",
    "        t += p[idx]\n",
    "        cost += max(0,(t-d[idx])*w[idx])\n",
    "    return cost"
   ]
  },
  {
   "cell_type": "code",
   "execution_count": 86,
   "metadata": {},
   "outputs": [],
   "source": [
    "def getPrimal_0(p,d,w):\n",
    "    sortedTasks=np.argsort(d)\n",
    "    cost=computeCost(p,d,w,sortedTasks)\n",
    "    return(cost,list(sortedTasks))"
   ]
  },
  {
   "cell_type": "code",
   "execution_count": 87,
   "metadata": {},
   "outputs": [],
   "source": [
    "def getPrimal_1(p,d,w):\n",
    "    sortedTasks=(np.argsort((np.array(d)-np.array(p))*np.array(w)))[::-1]\n",
    "    cost=computeCost(p,d,w,sortedTasks)\n",
    "    return(cost,list(sortedTasks))"
   ]
  },
  {
   "cell_type": "code",
   "execution_count": 88,
   "metadata": {},
   "outputs": [],
   "source": [
    "def getPrimal_2(p,d,w):\n",
    "    tasksLeft=[int(i) for i in range(len(p))]\n",
    "    order=[]\n",
    "    while len(tasksLeft)!= 0:\n",
    "        time=np.sum(np.array(p)[tasksLeft])\n",
    "        penalities=(time-np.array(d)[tasksLeft])*np.array(w)[tasksLeft]\n",
    "        sortedTasks=np.argsort(penalities)\n",
    "        order.append(tasksLeft[sortedTasks[0]])\n",
    "        tasksLeft.pop(sortedTasks[0])\n",
    "    order.reverse()\n",
    "    cost = computeCost(p,d,w,order)\n",
    "    return(cost,order)"
   ]
  },
  {
   "cell_type": "markdown",
   "metadata": {},
   "source": [
    "## Test des différentes méthodes : "
   ]
  },
  {
   "cell_type": "code",
   "execution_count": 91,
   "metadata": {},
   "outputs": [
    {
     "name": "stdout",
     "output_type": "stream",
     "text": [
      "Classement par ordre croissant des dates d'usinage au plus tard :\n",
      " (136, [0, 2, 1, 3])\n",
      "Classement par ordre décroissant des (d-p)*w : \n",
      " (133, [3, 1, 2, 0])\n",
      "Classement en mettant en dernière position disponible l'élémen non traité donnant lieu à la plus petite pénalité de retard : \n",
      " (67, [0, 1, 3, 2])\n"
     ]
    }
   ],
   "source": [
    "w=[4,5,3,5]\n",
    "d=[16,26,25,27]\n",
    "p=[12,8,15,9]\n",
    "print(\"Classement par ordre croissant des dates d'usinage au plus tard :\\n\",getPrimal_0(p,d,w))\n",
    "print(\"Classement par ordre décroissant des (d-p)*w : \\n\",getPrimal_1(p,d,w))\n",
    "print(\"Classement en mettant en dernière position disponible l'élémen non traité donnant lieu à la plus petite pénalité de retard : \\n\",getPrimal_2(p,d,w))"
   ]
  },
  {
   "cell_type": "markdown",
   "metadata": {},
   "source": [
    "# Calculs de borne dual"
   ]
  },
  {
   "cell_type": "code",
   "execution_count": 127,
   "metadata": {},
   "outputs": [],
   "source": [
    "def getDual_0(p,w,d,visited):\n",
    "    dual=0\n",
    "    time=0\n",
    "    notVisited=list(range(len(p)))\n",
    "    for i in visited:\n",
    "        retard=((p[i]+time)-d[i])\n",
    "        dual+=retard*w[i]*(retard>0)\n",
    "        time+=p[i]\n",
    "        notVisited.remove(i)\n",
    "        \n",
    "    return dual"
   ]
  },
  {
   "cell_type": "code",
   "execution_count": 128,
   "metadata": {},
   "outputs": [],
   "source": [
    "def getDual_1(p,w,d,visited):\n",
    "    dual=0\n",
    "    time=0\n",
    "    notVisited=list(range(len(p)))\n",
    "    for i in visited:\n",
    "        retard=((p[i]+time)-d[i])\n",
    "        dual+=retard*w[i]*(retard>0)\n",
    "        time+=p[i]\n",
    "        notVisited.remove(i)\n",
    "        \n",
    "    for j in notVisited:\n",
    "        retard=(p[j]+time)-d[j]\n",
    "        dual+=retard*w[j]*(retard>0)\n",
    "    return dual"
   ]
  },
  {
   "cell_type": "markdown",
   "metadata": {},
   "source": [
    "## Test des méthodes : "
   ]
  },
  {
   "cell_type": "code",
   "execution_count": 129,
   "metadata": {},
   "outputs": [
    {
     "name": "stdout",
     "output_type": "stream",
     "text": [
      "Si on a fixé l'ordre de k pièces on calcule les pénalités de retard de ces k pièces : \n",
      " 0\n",
      "Si on a fixé l'ordre de k pièces on calcule les pénalités de retard de ces k pièces et on ajoute les pénalités des autres pièces en supposant qu'elles sont en (k+1)ème position : \n",
      " 40\n"
     ]
    }
   ],
   "source": [
    "print(\"Si on a fixé l'ordre de k pièces on calcule les pénalités de retard de ces k pièces : \\n\",getDual_0(p,w,d,[0,1]))\n",
    "print(\"Si on a fixé l'ordre de k pièces on calcule les pénalités de retard de ces k pièces et on ajoute les pénalités des autres pièces en supposant qu'elles sont en (k+1)ème position : \\n\",getDual_1(p,w,d,[0,1]))"
   ]
  },
  {
   "cell_type": "markdown",
   "metadata": {},
   "source": [
    "# Implementation "
   ]
  },
  {
   "cell_type": "code",
   "execution_count": 2,
   "metadata": {},
   "outputs": [],
   "source": [
    "class Node:\n",
    "    def __init__(self, parent, children, lb, visited):\n",
    "        self.parent = parent\n",
    "        self.children = children\n",
    "        self.lb = lb\n",
    "        self.visited = visited\n",
    "    def __str__(self):\n",
    "        return \"Parent : \" +str(self.parent)+\"\\n Children : \"+str(self.children) + \"\\n ub : \"+str(self.ub)+\"\\n lb : \"+str(self.lb) + \"\\n visited : \"+str(slef.visited)"
   ]
  },
  {
   "cell_type": "code",
   "execution_count": null,
   "metadata": {},
   "outputs": [],
   "source": [
    "def branch_and_bound(p,d,w):\n",
    "    feascycles = enum_smallcycles(graphe, K) # generate cycles of size <= K \n",
    "    \n",
    "    Tree = [] # list of all nodes created (a list of Node objects)\n",
    "    Queue = [] # list of nodes to process (a list of integers with the index of nodes to process in the Tree)\n",
    "    UB = 100000 # set the upper bound to a sufficiently large number\n",
    "    LB = 0 # set the lower bound to a sufficiently small number \n",
    "    #(if a feasible solution is known we can use its value, here choosing no cycles is a trivial feasible solution)\n",
    "    ϵ = 0.0001 #an optimality tolerance of %0.01\n",
    "    incumbent = [] # initialize the incumbent solution \n",
    "\n",
    "    root = Node(None, [], math.inf, [], []) # at the root node no variables are fixed \n",
    "    Tree.append(root) # start the tree with the root node\n",
    "    Queue.append(0) # start the list of nodes to process with the root node (note that index of root in Tree is 0)\n",
    "    \n",
    "    #continue processing nodes until the list is empty OR \n",
    "    #until an optimality tolerance between the lower bound and the upper bound is reached\n",
    "    while Queue!=[] and 2*(UB-LB)/(UB+LB)>=ϵ:\n",
    "        # process the first node in the queue\n",
    "        currentindex = Queue[0] # note that we follow a first-in-first-out node processing strategy\n",
    "        currentnode = Tree[currentindex]\n",
    "        # solve the LP relaxation of the current node\n",
    "        current_val,current_sol = plne_cycle_relax(graphe, utilities, feascycles, K, currentnode.setzero, currentnode.setone)\n",
    "        #print(current_val)\n",
    "        #print(current_sol) \n",
    "    \n",
    "        # if the current node is feasible then we will proceed to updating the upper bound of the current node\n",
    "        # and checking whether its solution is fractional\n",
    "        if current_sol!=[]:\n",
    "            currentnode.ub = current_val\n",
    "            fractional = False # initialize the indicator for fractional solutions\n",
    "            branchingindex = 0 # initialize the index of branching variable\n",
    "            # test whether the current solution is fractional\n",
    "            # TO COMPLETE\n",
    "            for i in list(range(0,len(current_sol))):\n",
    "                if (current_sol[i]-math.floor(current_sol[i]))>0:\n",
    "                    branchingindex = i\n",
    "                    fractional = True\n",
    "                    break\n",
    "            # note that we follow a first-found branching strategy, i.e., we branch on the first fractional variable found        \n",
    "            # if the current solution is fractional and its bound is promising:\n",
    "            # - create two new nodes \n",
    "            # - add them to the tree (set their parent as currentnode)\n",
    "            # - add their indices to the list of children of current node\n",
    "            # - add the new nodes to the Queue \n",
    "            if (fractional == True and (currentnode.ub-LB)>LB*ϵ): \n",
    "                print(\"Branching on variable cycle_\", branchingindex)\n",
    "                n1=Node(currentnode, [], currentnode.ub, currentnode.setzero.append(branchingindex), [])\n",
    "                n2=Node(currentnode, [], currentnode.ub, [], currentnode.setzero.append(branchingindex))\n",
    "                Tree.append(n1)\n",
    "                Queue.append(len(Tree)-1)\n",
    "                currentnode.children.append(len(Tree)-1)\n",
    "                Tree.append(n2)\n",
    "                Queue.append(len(Tree)-1)\n",
    "                currentnode.children.append(len(Tree)-1)\n",
    "                \n",
    "                # TO COMPLETE :    \n",
    "            # if the current solution is fractional but its bound is not promising then do nothing    \n",
    "            elif (fractional == True and currentnode.ub<=LB):\n",
    "                print(\"Node eliminated by bound\")\n",
    "            # if the current solution is integer update the lower bound and the incumbent solution (if necessary)   \n",
    "            elif fractional == False: #Solution non fractionnelle\n",
    "                print(\"Integer solution with value \", current_val, \" found\")\n",
    "                if(currentnode.ub-LB>0):\n",
    "                    LB=currentnode.ub\n",
    "                    incumbent=current_sol\n",
    "                # TO COMPLETE\n",
    "        \n",
    "        # Calculate the current UB as the maximum of all the upper bounds among the active nodes\n",
    "        # MAJ de la borne dual (si pb de max, si on a un max plus petit on met a jour)\n",
    "        currentUB = math.inf\n",
    "        for node in Tree:\n",
    "            if node.ub < currentUB:\n",
    "                currentUB = node.ub\n",
    "        \n",
    "        # Update the UB if the current UB is better\n",
    "        if currentUB <= UB:\n",
    "            UB = currentUB\n",
    "        # Display the current upper and lower bounds    \n",
    "        print(\"LB= \",LB,\" UB= \", UB)\n",
    "        # When the processing of the node is completed remove the node from the queue     \n",
    "        Queue.remove(currentindex)\n",
    "\n",
    "\n",
    "    # return the incumbent solution \n",
    "    C = list(range(0,len(feascycles)))\n",
    "    bb_cycles = []  \n",
    "    for c in C:\n",
    "        if incumbent[c] == 1:\n",
    "            bb_cycles.append(feascycles[c])\n",
    "    \n",
    "    return bb_cycles"
   ]
  }
 ],
 "metadata": {
  "kernelspec": {
   "display_name": "Python 3",
   "language": "python",
   "name": "python3"
  },
  "language_info": {
   "codemirror_mode": {
    "name": "ipython",
    "version": 3
   },
   "file_extension": ".py",
   "mimetype": "text/x-python",
   "name": "python",
   "nbconvert_exporter": "python",
   "pygments_lexer": "ipython3",
   "version": "3.7.4"
  }
 },
 "nbformat": 4,
 "nbformat_minor": 4
}

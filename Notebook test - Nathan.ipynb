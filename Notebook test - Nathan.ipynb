{
 "cells": [
  {
   "cell_type": "markdown",
   "metadata": {},
   "source": [
    "# Bienvenue sur le meilleur notebook"
   ]
  },
  {
   "cell_type": "code",
   "execution_count": 149,
   "metadata": {},
   "outputs": [],
   "source": [
    "import numpy as np\n",
    "from matplotlib import pyplot as plt\n",
    "import math"
   ]
  },
  {
   "cell_type": "markdown",
   "metadata": {},
   "source": [
    "# Calculs de bornes primales"
   ]
  },
  {
   "cell_type": "code",
   "execution_count": 39,
   "metadata": {},
   "outputs": [],
   "source": [
    "def computeCost(p,d,w,order):\n",
    "    t=0\n",
    "    cost=0\n",
    "    for idx in order:\n",
    "        t += p[idx]\n",
    "        cost += max(0,(t-d[idx])*w[idx])\n",
    "    return cost"
   ]
  },
  {
   "cell_type": "code",
   "execution_count": 86,
   "metadata": {},
   "outputs": [],
   "source": [
    "def getPrimal_0(p,d,w):\n",
    "    sortedTasks=np.argsort(d)\n",
    "    cost=computeCost(p,d,w,sortedTasks)\n",
    "    return(cost,list(sortedTasks))"
   ]
  },
  {
   "cell_type": "code",
   "execution_count": 87,
   "metadata": {},
   "outputs": [],
   "source": [
    "def getPrimal_1(p,d,w):\n",
    "    sortedTasks=(np.argsort((np.array(d)-np.array(p))*np.array(w)))[::-1]\n",
    "    cost=computeCost(p,d,w,sortedTasks)\n",
    "    return(cost,list(sortedTasks))"
   ]
  },
  {
   "cell_type": "code",
   "execution_count": 88,
   "metadata": {},
   "outputs": [],
   "source": [
    "def getPrimal_2(p,d,w):\n",
    "    tasksLeft=[int(i) for i in range(len(p))]\n",
    "    order=[]\n",
    "    while len(tasksLeft)!= 0:\n",
    "        time=np.sum(np.array(p)[tasksLeft])\n",
    "        penalities=(time-np.array(d)[tasksLeft])*np.array(w)[tasksLeft]\n",
    "        sortedTasks=np.argsort(penalities)\n",
    "        order.append(tasksLeft[sortedTasks[0]])\n",
    "        tasksLeft.pop(sortedTasks[0])\n",
    "    order.reverse()\n",
    "    cost = computeCost(p,d,w,order)\n",
    "    return(cost,order)"
   ]
  },
  {
   "cell_type": "markdown",
   "metadata": {},
   "source": [
    "## Test des différentes méthodes : "
   ]
  },
  {
   "cell_type": "code",
   "execution_count": 91,
   "metadata": {},
   "outputs": [
    {
     "name": "stdout",
     "output_type": "stream",
     "text": [
      "Classement par ordre croissant des dates d'usinage au plus tard :\n",
      " (136, [0, 2, 1, 3])\n",
      "Classement par ordre décroissant des (d-p)*w : \n",
      " (133, [3, 1, 2, 0])\n",
      "Classement en mettant en dernière position disponible l'élémen non traité donnant lieu à la plus petite pénalité de retard : \n",
      " (67, [0, 1, 3, 2])\n"
     ]
    }
   ],
   "source": [
    "w=[4,5,3,5]\n",
    "d=[16,26,25,27]\n",
    "p=[12,8,15,9]\n",
    "print(\"Classement par ordre croissant des dates d'usinage au plus tard :\\n\",getPrimal_0(p,d,w))\n",
    "print(\"Classement par ordre décroissant des (d-p)*w : \\n\",getPrimal_1(p,d,w))\n",
    "print(\"Classement en mettant en dernière position disponible l'élémen non traité donnant lieu à la plus petite pénalité de retard : \\n\",getPrimal_2(p,d,w))"
   ]
  },
  {
   "cell_type": "markdown",
   "metadata": {},
   "source": [
    "# Calculs de borne dual"
   ]
  },
  {
   "cell_type": "code",
   "execution_count": 138,
   "metadata": {},
   "outputs": [],
   "source": [
    "def getDual_0(p,d,w,visited):\n",
    "    dual=0\n",
    "    time=0\n",
    "    notVisited=list(range(len(p)))\n",
    "    for i in visited:\n",
    "        retard=((p[i]+time)-d[i])\n",
    "        dual+=retard*w[i]*(retard>0)\n",
    "        time+=p[i]\n",
    "        notVisited.remove(i)\n",
    "        \n",
    "    return dual"
   ]
  },
  {
   "cell_type": "code",
   "execution_count": 139,
   "metadata": {},
   "outputs": [],
   "source": [
    "def getDual_1(p,d,w,visited):\n",
    "    dual=0\n",
    "    time=0\n",
    "    notVisited=list(range(len(p)))\n",
    "    for i in visited:\n",
    "        retard=((p[i]+time)-d[i])\n",
    "        dual+=retard*w[i]*(retard>0)\n",
    "        time+=p[i]\n",
    "        notVisited.remove(i)\n",
    "        \n",
    "    for j in notVisited:\n",
    "        retard=(p[j]+time)-d[j]\n",
    "        dual+=retard*w[j]*(retard>0)\n",
    "    return dual"
   ]
  },
  {
   "cell_type": "code",
   "execution_count": 140,
   "metadata": {},
   "outputs": [],
   "source": [
    "def getDual_2(p,d,w,visited):\n",
    "    dual=0\n",
    "    time=np.sum(p)\n",
    "\n",
    "    for i in visited:\n",
    "        retard=(time-d[i])\n",
    "        dual+=retard*w[i]*(retard>0)\n",
    "        time-=p[i]\n",
    "        \n",
    "    return dual"
   ]
  },
  {
   "cell_type": "markdown",
   "metadata": {},
   "source": [
    "## Test des méthodes : "
   ]
  },
  {
   "cell_type": "code",
   "execution_count": 141,
   "metadata": {},
   "outputs": [
    {
     "name": "stdout",
     "output_type": "stream",
     "text": [
      "Si on a fixé l'ordre de k pièces on calcule les pénalités de retard de ces k pièces : \n",
      " 0\n",
      "Si on a fixé l'ordre de k pièces on calcule les pénalités de retard de ces k pièces et on ajoute les pénalités des autres pièces en supposant qu'elles sont en (k+1)ème position : \n",
      " 40\n"
     ]
    }
   ],
   "source": [
    "print(\"Si on a fixé l'ordre de k pièces on calcule les pénalités de retard de ces k pièces : \\n\",getDual_0(p,d,w,[0,1]))\n",
    "print(\"Si on a fixé l'ordre de k pièces on calcule les pénalités de retard de ces k pièces et on ajoute les pénalités des autres pièces en supposant qu'elles sont en (k+1)ème position : \\n\",getDual_1(p,d,w,[0,1]))"
   ]
  },
  {
   "cell_type": "markdown",
   "metadata": {},
   "source": [
    "# Implementation "
   ]
  },
  {
   "cell_type": "code",
   "execution_count": 146,
   "metadata": {},
   "outputs": [],
   "source": [
    "class Node:\n",
    "    def __init__(self, parent, children, lb, visited):\n",
    "        self.parent = parent\n",
    "        self.children = children\n",
    "        self.lb = lb\n",
    "        self.visited = visited\n",
    "    def __str__(self):\n",
    "        return \"Parent : \" +str(self.parent)+\"\\n Children : \"+str(self.children) + \"\\n lb : \"+str(self.lb) + \"\\n visited : \"+str(self.visited)"
   ]
  },
  {
   "cell_type": "code",
   "execution_count": 266,
   "metadata": {},
   "outputs": [],
   "source": [
    "def branch_and_bound(p,d,w,getPrimal,getDual,bylast,steps):\n",
    "    \n",
    "    nbIterations=0\n",
    "    Tasks = list(range(len(p)))\n",
    "    Tree = [] # list of all nodes created (a list of Node objects)\n",
    "    Queue = [] # list of nodes to process (a list of integers with the index of nodes to process in the Tree)\n",
    "    UB = 10000000 # set the upper bound to a sufficiently large number\n",
    "    LB = 0 # set the lower bound to a sufficiently small number \n",
    "    \n",
    "    UB,currentOrder = getPrimal(p,d,w)\n",
    "    if(steps):\n",
    "        print(\"First UB : \", UB)\n",
    "    \n",
    "    root = Node(None, [], 0, []) # at the root node no variables are fixed \n",
    "    Tree.append(root) # start the tree with the root node\n",
    "    Queue.append(0) # start the list of nodes to process with the root node (note that index of root in Tree is 0)\n",
    "    \n",
    "    #continue processing nodes until the list is empty OR \n",
    "    #until an optimality tolerance between the lower bound and the upper bound is reached\n",
    "    \n",
    "    while Queue!=[]:\n",
    "        nbIterations+=1\n",
    "        # process the first node in the queue\n",
    "        currentIndex = Queue[0]\n",
    "        currentNode = Tree[currentIndex]\n",
    "        \n",
    "        if(steps):\n",
    "            print(\"\\n##################################\")\n",
    "            print(\"Current Node : {}\\n\".format(currentIndex),currentNode )\n",
    "            print(\"----------------------------------\")\n",
    "        \n",
    "        if len(currentNode.visited) == len(p):\n",
    "            branching=2\n",
    "            order = currentNode.visited.copy()\n",
    "            if(bylast==True):\n",
    "                order.reverse()\n",
    "            solutionCost = computeCost(p,d,w,order)\n",
    "            if solutionCost <= UB:\n",
    "                UB = solutionCost\n",
    "                currentOrder=order\n",
    "                \n",
    "        if currentNode.lb < UB:\n",
    "            \n",
    "            branching=1\n",
    "            \n",
    "            for nextTask in (set(Tasks)-set(currentNode.visited)):\n",
    "                nextVisited = currentNode.visited.copy()\n",
    "                nextVisited.append(nextTask)\n",
    "                nextLb = getDual(p,d,w, nextVisited)\n",
    "                \n",
    "                newNode = Node(currentIndex, [], nextLb,nextVisited)\n",
    "                Tree.append(newNode)\n",
    "                Queue.append(len(Tree)-1)\n",
    "                currentNode.children.append(len(Tree)-1)\n",
    "                \n",
    "        else :\n",
    "            branching=0\n",
    "        \n",
    "        # Calculate the current LB as the maximum of all the upper bounds among the active nodes\n",
    "        currentLB = -math.inf\n",
    "        for node in Tree:\n",
    "            if node.lb > currentLB and node.lb <= UB:\n",
    "                currentLB = node.lb\n",
    "        \n",
    "        # Update the LB if the current LB is better\n",
    "        if currentLB >= LB:\n",
    "            LB = currentLB\n",
    "        \n",
    "        if(steps):\n",
    "            # Display the current upper and lower bounds    \n",
    "            print(\"LB= \",LB,\" UB= \", UB)\n",
    "            # When the processing of the node is completed remove the node from the queue     \n",
    "        Queue.remove(currentIndex)\n",
    "        \n",
    "        if(steps):\n",
    "            if branching==0:\n",
    "                print(\"##################################\")\n",
    "                print(\"\\nPRUNE\")\n",
    "        \n",
    "            elif branching==1 and LB!=UB:\n",
    "                print(\"##################################\")\n",
    "                print(\"\\nBRANCHING\")\n",
    "            \n",
    "        \n",
    "\n",
    "\n",
    "    # return the  solution \n",
    "    if(steps):\n",
    "        print(\"##################################\")\n",
    "        print(\"\\nEND\")\n",
    "    return UB,currentOrder,nbIterations"
   ]
  },
  {
   "cell_type": "code",
   "execution_count": 267,
   "metadata": {},
   "outputs": [
    {
     "data": {
      "text/plain": [
       "(67, [0, 1, 3, 2], 48)"
      ]
     },
     "execution_count": 267,
     "metadata": {},
     "output_type": "execute_result"
    }
   ],
   "source": [
    "branch_and_bound(p,d,w,getPrimal_1,getDual_1,bylast=False,steps=False)"
   ]
  },
  {
   "cell_type": "code",
   "execution_count": 268,
   "metadata": {},
   "outputs": [
    {
     "data": {
      "text/plain": [
       "(67, [0, 1, 3, 2], 8)"
      ]
     },
     "execution_count": 268,
     "metadata": {},
     "output_type": "execute_result"
    }
   ],
   "source": [
    "branch_and_bound(p,d,w,getPrimal_2,getDual_2,bylast=True,steps=False)"
   ]
  },
  {
   "cell_type": "code",
   "execution_count": 269,
   "metadata": {},
   "outputs": [
    {
     "data": {
      "text/plain": [
       "(67, [0, 1, 3, 2], 52)"
      ]
     },
     "execution_count": 269,
     "metadata": {},
     "output_type": "execute_result"
    }
   ],
   "source": [
    "branch_and_bound(p,d,w,getPrimal_0,getDual_1,bylast=False,steps=False)"
   ]
  },
  {
   "cell_type": "code",
   "execution_count": 270,
   "metadata": {},
   "outputs": [
    {
     "data": {
      "text/plain": [
       "(67, [0, 1, 3, 2], 65)"
      ]
     },
     "execution_count": 270,
     "metadata": {},
     "output_type": "execute_result"
    }
   ],
   "source": [
    "branch_and_bound(p,d,w,getPrimal_0,getDual_0,bylast=False,steps=False)"
   ]
  },
  {
   "cell_type": "code",
   "execution_count": null,
   "metadata": {},
   "outputs": [],
   "source": []
  }
 ],
 "metadata": {
  "kernelspec": {
   "display_name": "Python 3",
   "language": "python",
   "name": "python3"
  },
  "language_info": {
   "codemirror_mode": {
    "name": "ipython",
    "version": 3
   },
   "file_extension": ".py",
   "mimetype": "text/x-python",
   "name": "python",
   "nbconvert_exporter": "python",
   "pygments_lexer": "ipython3",
   "version": "3.7.4"
  }
 },
 "nbformat": 4,
 "nbformat_minor": 4
}
